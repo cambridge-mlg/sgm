{
 "cells": [
  {
   "cell_type": "code",
   "execution_count": 1,
   "metadata": {},
   "outputs": [],
   "source": [
    "%load_ext autoreload\n",
    "%autoreload 2\n",
    "\n",
    "import jax\n",
    "from jax import numpy as jnp\n",
    "from jax import random\n",
    "import flax\n",
    "import optax\n",
    "import distrax\n",
    "import tensorflow as tf\n",
    "import tensorflow_datasets as tfds\n",
    "from clu import preprocess_spec\n",
    "import matplotlib.pyplot as plt\n",
    "\n",
    "from NeurReps import preprocess_utils"
   ]
  },
  {
   "cell_type": "code",
   "execution_count": 2,
   "metadata": {},
   "outputs": [],
   "source": [
    "BATCH_SIZE = 256"
   ]
  },
  {
   "cell_type": "code",
   "execution_count": 3,
   "metadata": {},
   "outputs": [],
   "source": [
    "rng = random.PRNGKey(42)"
   ]
  },
  {
   "cell_type": "markdown",
   "metadata": {},
   "source": [
    "## Get Data"
   ]
  },
  {
   "cell_type": "code",
   "execution_count": 4,
   "metadata": {},
   "outputs": [],
   "source": [
    "rng, shuffle_rng, pp_rng = random.split(rng, num=3)"
   ]
  },
  {
   "cell_type": "code",
   "execution_count": 5,
   "metadata": {},
   "outputs": [],
   "source": [
    "pp_train = 'value_range(-1, 1)|random_rotate(-45, 45, fill_value=-1)|keep([\"image\"])'\n",
    "preprocess_fn = preprocess_spec.parse(\n",
    "          spec=pp_train, available_ops=preprocess_utils.all_ops())\n",
    "\n",
    "def preprocess_with_rng(example_index, features):\n",
    "    example_index = tf.cast(example_index, tf.int32)\n",
    "    features[\"rng\"] = tf.random.experimental.stateless_fold_in(\n",
    "        tf.cast(pp_rng, tf.int64), example_index)\n",
    "    processed = preprocess_fn(features)\n",
    "    # del processed[\"rng\"]\n",
    "    return processed"
   ]
  },
  {
   "cell_type": "code",
   "execution_count": 6,
   "metadata": {},
   "outputs": [],
   "source": [
    "ds = tfds.load('MNIST', split='train')\n",
    "ds = ds.shuffle(10_000, seed=shuffle_rng[0])\n",
    "# NOTE: ordering of PP and repeat is important! \n",
    "# PP first -> same seed each time we see same example.\n",
    "# PP last -> diff seed each time we see same example. Effectively more data.\n",
    "ds = ds.enumerate().map(preprocess_with_rng, num_parallel_calls=tf.data.AUTOTUNE)\n",
    "ds = ds.repeat()\n",
    "ds = ds.batch(batch_size=BATCH_SIZE)\n",
    "ds = ds.prefetch(tf.data.AUTOTUNE)\n",
    "ds = ds.as_numpy_iterator()"
   ]
  },
  {
   "cell_type": "code",
   "execution_count": 7,
   "metadata": {},
   "outputs": [
    {
     "data": {
      "image/png": "[encoded data removed]",
      "text/plain": [
       "<Figure size 432x288 with 1 Axes>"
      ]
     },
     "metadata": {
      "needs_background": "light"
     },
     "output_type": "display_data"
    },
    {
     "data": {
      "image/png": "[encoded data removed]",
      "text/plain": [
       "<Figure size 432x288 with 1 Axes>"
      ]
     },
     "metadata": {
      "needs_background": "light"
     },
     "output_type": "display_data"
    },
    {
     "data": {
      "image/png": "[encoded data removed]",
      "text/plain": [
       "<Figure size 432x288 with 1 Axes>"
      ]
     },
     "metadata": {
      "needs_background": "light"
     },
     "output_type": "display_data"
    }
   ],
   "source": [
    "for _ in range(3):\n",
    "    batch = next(ds)\n",
    "    plt.imshow(batch['image'][0], cmap='gray')\n",
    "    plt.show()"
   ]
  },
  {
   "cell_type": "markdown",
   "metadata": {},
   "source": [
    "## Build Model"
   ]
  },
  {
   "cell_type": "markdown",
   "metadata": {},
   "source": []
  }
 ],
 "metadata": {
  "kernelspec": {
   "display_name": "Python 3.9.13 ('inv')",
   "language": "python",
   "name": "python3"
  },
  "language_info": {
   "codemirror_mode": {
    "name": "ipython",
    "version": 3
   },
   "file_extension": ".py",
   "mimetype": "text/x-python",
   "name": "python",
   "nbconvert_exporter": "python",
   "pygments_lexer": "ipython3",
   "version": "3.9.13"
  },
  "orig_nbformat": 4,
  "vscode": {
   "interpreter": {
    "hash": "85696cc8f8f812d4e53cfd8a6f4960223adf32f47c94bbc41d022414b9401ed4"
   }
  }
 },
 "nbformat": 4,
 "nbformat_minor": 2
}
