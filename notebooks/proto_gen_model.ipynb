{
 "cells": [
  {
   "cell_type": "markdown",
   "metadata": {},
   "source": [
    "# Trying to get learning of angles working, now with probabilities"
   ]
  },
  {
   "cell_type": "code",
   "execution_count": 1,
   "metadata": {},
   "outputs": [
    {
     "name": "stderr",
     "output_type": "stream",
     "text": [
      "2023-08-31 22:50:45.362931: W tensorflow/compiler/tf2tensorrt/utils/py_utils.cc:38] TF-TRT Warning: Could not find TensorRT\n",
      "/homes/jua23/.virtualenvs/inv/lib/python3.11/site-packages/tqdm/auto.py:21: TqdmWarning: IProgress not found. Please update jupyter and ipywidgets. See https://ipywidgets.readthedocs.io/en/stable/user_install.html\n",
      "  from .autonotebook import tqdm as notebook_tqdm\n",
      "/homes/jua23/.virtualenvs/inv/lib/python3.11/site-packages/tensorflow_addons/utils/tfa_eol_msg.py:23: UserWarning: \n",
      "\n",
      "TensorFlow Addons (TFA) has ended development and introduction of new features.\n",
      "TFA has entered a minimal maintenance and release mode until a planned end of life in May 2024.\n",
      "Please modify downstream libraries to take dependencies from other repositories in our TensorFlow community (e.g. Keras, Keras-CV, and Keras-NLP). \n",
      "\n",
      "For more information see: https://github.com/tensorflow/addons/issues/2807 \n",
      "\n",
      "  warnings.warn(\n"
     ]
    }
   ],
   "source": [
    "%load_ext autoreload\n",
    "%autoreload 2\n",
    "\n",
    "import os\n",
    "\n",
    "os.environ[\"WANDB_NOTEBOOK_NAME\"] = \"proto_gen_model.ipynb\"\n",
    "os.environ[\"XLA_FLAGS\"] = \"--xla_gpu_deterministic_ops=true\"\n",
    "\n",
    "from typing import Optional, Union\n",
    "\n",
    "from ml_collections import config_dict\n",
    "import jax.random as random\n",
    "import jax.numpy as jnp\n",
    "\n",
    "jnp.log(jnp.exp(1) - 1.0)\n",
    "# TODO: figure out why we get CUDA failures this ^ isn't here. \n",
    "\n",
    "import flax\n",
    "from flax.training import train_state\n",
    "\n",
    "import ciclo\n",
    "import optax\n",
    "import distrax\n",
    "\n",
    "import jax\n",
    "from jax import lax\n",
    "import flax\n",
    "import flax.linen as nn\n",
    "flax.config.update('flax_use_orbax_checkpointing', True)\n",
    "\n",
    "from clu import parameter_overview\n",
    "\n",
    "from typing import Any\n",
    "\n",
    "from functools import partial\n",
    "\n",
    "import tensorflow_datasets as tfds\n",
    "\n",
    "from clu import deterministic_data\n",
    "from clu import preprocess_spec\n",
    "from clu import metrics\n",
    "\n",
    "from absl import logging\n",
    "logging.set_verbosity(logging.INFO)\n",
    "\n",
    "# set save plot face color to be white\n",
    "import matplotlib.pyplot as plt\n",
    "plt.rcParams[\"savefig.facecolor\"] = \"white\"\n",
    "\n",
    "from src.utils.preprocess import all_ops\n",
    "from src.transformations import transform_image\n",
    "\n",
    "\n",
    "PRNGKey = Any"
   ]
  },
  {
   "cell_type": "code",
   "execution_count": 2,
   "metadata": {},
   "outputs": [],
   "source": [
    "rng = random.PRNGKey(0)\n",
    "train_data_rng, val_data_rng, init_rng, state_rng = random.split(rng, 4)"
   ]
  },
  {
   "cell_type": "markdown",
   "metadata": {},
   "source": [
    "## Get data"
   ]
  },
  {
   "cell_type": "code",
   "execution_count": 3,
   "metadata": {},
   "outputs": [],
   "source": [
    "ANGLE = 180\n",
    "\n",
    "config = config_dict.ConfigDict()\n",
    "\n",
    "config.batch_size = 512\n",
    "config.dataset = \"MNIST\"\n",
    "config.shuffle_buffer_size = 50_000\n",
    "config.repeat_after_batching = True  # NOTE: ordering of PP, shuffle, and repeat is important!\n",
    "config.train_split = f\"train[10000:]\"\n",
    "config.pp_train = f'value_range(-1, 1)|random_rotate(-{ANGLE}, {ANGLE}, fill_value=-1)|keep([\"image\"])'\n",
    "config.val_split = f\"train[:10000]\"\n",
    "config.pp_eval = f'value_range(-1, 1)|random_rotate(-{ANGLE}, {ANGLE}, fill_value=-1)|keep([\"image\", \"label\"])'\n",
    "\n",
    "\n",
    "config.model = config_dict.ConfigDict()\n",
    "config.model.bounds = (0.25, 0.25, jnp.pi, 0.25, 0.25)\n",
    "config.model.offset = (0.0, 0.0, 0.0, 0.0, 0.0)\n",
    "config.model.inference = config_dict.ConfigDict()\n",
    "config.model.inference.hidden_dims = (1024, 512, 256, 128)\n"
   ]
  },
  {
   "cell_type": "code",
   "execution_count": 4,
   "metadata": {},
   "outputs": [],
   "source": [
    "def get_data(config):\n",
    "    dataset_builder = tfds.builder(config.dataset)\n",
    "    dataset_builder.download_and_prepare()\n",
    "\n",
    "    local_batch_size  = config.batch_size // jax.device_count()\n",
    "\n",
    "    train_ds = deterministic_data.create_dataset(\n",
    "        dataset_builder,\n",
    "        split=tfds.split_for_jax_process(config.train_split),\n",
    "        # This RNG key will be used to derive all randomness in shuffling, data\n",
    "        # preprocessing etc.\n",
    "        rng=train_data_rng,\n",
    "        shuffle_buffer_size=config.shuffle_buffer_size,\n",
    "        # Depending on TPU/other runtime, local device count will be 8/1.\n",
    "        batch_dims=[jax.local_device_count(), local_batch_size],\n",
    "        repeat_after_batching=False,\n",
    "        preprocess_fn=preprocess_spec.parse(\n",
    "            spec=config.pp_train,\n",
    "            available_ops=all_ops(),\n",
    "        ),\n",
    "        shuffle=\"loaded\",\n",
    "        )\n",
    "\n",
    "\n",
    "    num_val_examples = dataset_builder.info.splits[config.val_split].num_examples\n",
    "    # Compute how many batches we need to contain the entire val set.\n",
    "    pad_up_to_batches = int(jnp.ceil(num_val_examples / config.batch_size))\n",
    "\n",
    "    val_ds = deterministic_data.create_dataset(\n",
    "        dataset_builder,\n",
    "        split=tfds.split_for_jax_process(config.val_split),\n",
    "        rng=val_data_rng,\n",
    "        batch_dims=[jax.local_device_count(), local_batch_size],\n",
    "        num_epochs=1,\n",
    "        preprocess_fn=preprocess_spec.parse(\n",
    "            spec=config.pp_eval,\n",
    "            available_ops=all_ops(),\n",
    "        ),\n",
    "        # Pad with masked examples instead of dropping incomplete final batch.\n",
    "        pad_up_to_batches=pad_up_to_batches,\n",
    "        shuffle=False)\n",
    "\n",
    "    return train_ds, val_ds"
   ]
  },
  {
   "cell_type": "code",
   "execution_count": 5,
   "metadata": {},
   "outputs": [
    {
     "name": "stderr",
     "output_type": "stream",
     "text": [
      "INFO:absl:Load dataset info from /homes/jua23/tensorflow_datasets/mnist/3.0.1\n",
      "INFO:absl:Fields info.[citation, splits, supervised_keys, module_name] from disk and from code do not match. Keeping the one from code.\n",
      "INFO:absl:Reusing dataset mnist (/homes/jua23/tensorflow_datasets/mnist/3.0.1)\n",
      "INFO:absl:Constructing tf.data.Dataset mnist for split _EvenSplit(split='train[10000:]', index=0, count=1, drop_remainder=False), from /homes/jua23/tensorflow_datasets/mnist/3.0.1\n",
      "INFO:absl:Features before preprocessing: {'image': 'uint8[28, 28, 1]', 'label': 'int64[]', 'rng': 'int32[2]'}\n",
      "INFO:absl:Features after op ValueRange(vmin=-1, vmax=1, in_min=0, in_max=255.0, clip_values=False, key='image', key_result=None):\n",
      "{'image': 'float32[28, 28, 1]', 'label': 'int64[]', 'rng': 'int32[2]'}\n",
      "INFO:absl:Features after op RandomRotate(θ_min=-3.141592653589793, θ_max=3.141592653589793, fill_mode='nearest', fill_value=-1, key='image', key_result=None, rng_key='rng'):\n",
      "{'image': 'float32[28, 28, 1]', 'label': 'int64[]', 'rng': 'int32[2]'}\n",
      "INFO:absl:Features after op Keep(keys=['image']):\n",
      "{'image': 'float32[28, 28, 1]'}\n",
      "INFO:absl:Features after preprocessing: {'image': 'float32[28, 28, 1]'}\n",
      "INFO:absl:Constructing tf.data.Dataset mnist for split _EvenSplit(split='train[:10000]', index=0, count=1, drop_remainder=False), from /homes/jua23/tensorflow_datasets/mnist/3.0.1\n",
      "INFO:absl:Features before preprocessing: {'image': 'uint8[28, 28, 1]', 'label': 'int64[]', 'rng': 'int32[2]'}\n",
      "INFO:absl:Features after op ValueRange(vmin=-1, vmax=1, in_min=0, in_max=255.0, clip_values=False, key='image', key_result=None):\n",
      "{'image': 'float32[28, 28, 1]', 'label': 'int64[]', 'rng': 'int32[2]'}\n",
      "INFO:absl:Features after op RandomRotate(θ_min=-3.141592653589793, θ_max=3.141592653589793, fill_mode='nearest', fill_value=-1, key='image', key_result=None, rng_key='rng'):\n",
      "{'image': 'float32[28, 28, 1]', 'label': 'int64[]', 'rng': 'int32[2]'}\n",
      "INFO:absl:Features after op Keep(keys=['image', 'label']):\n",
      "{'image': 'float32[28, 28, 1]', 'label': 'int64[]'}\n",
      "INFO:absl:Features after preprocessing: {'image': 'float32[28, 28, 1]', 'label': 'int64[]'}\n"
     ]
    }
   ],
   "source": [
    "train_ds, val_ds = get_data(config)"
   ]
  },
  {
   "cell_type": "markdown",
   "metadata": {},
   "source": [
    "## Setup TrainState and NN"
   ]
  },
  {
   "cell_type": "code",
   "execution_count": 6,
   "metadata": {},
   "outputs": [],
   "source": [
    "@flax.struct.dataclass  # <-- required for JAX transformations\n",
    "class Metrics(metrics.Collection):\n",
    "    loss: metrics.Average.from_output('loss')\n",
    "    x_mse: metrics.Average.from_output('x_mse')\n",
    "\n",
    "    def update(self, **kwargs) -> \"Metrics\":\n",
    "        updates = self.single_from_model_output(**kwargs)\n",
    "        return self.merge(updates)\n",
    "\n",
    "class TrainState(train_state.TrainState):\n",
    "    metrics: Metrics\n",
    "    rng: PRNGKey\n",
    "    λ: float\n",
    "    λ_schedule: optax.Schedule = flax.struct.field(pytree_node=False)\n",
    "    polyak_step_size: Optional[float] = None\n",
    "    avg_params: Optional[flax.core.FrozenDict] = None\n",
    "\n",
    "    def apply_gradients(self, *, grads, **kwargs):\n",
    "        updates, new_opt_state = self.tx.update(grads, self.opt_state, self.params)\n",
    "        new_params = optax.apply_updates(self.params, updates)\n",
    "\n",
    "        if self.polyak_step_size is not None:\n",
    "            new_avg_params = optax.incremental_update(new_params, self.avg_params, self.polyak_step_size)\n",
    "        else:\n",
    "            new_avg_params = None\n",
    "\n",
    "        return self.replace(\n",
    "            step=self.step + 1,\n",
    "            params=new_params,\n",
    "            opt_state=new_opt_state,\n",
    "            λ=self.λ_schedule(self.step),\n",
    "            avg_params=new_avg_params,\n",
    "            **kwargs,\n",
    "        )\n",
    "\n",
    "    @classmethod\n",
    "    def create(\n",
    "        cls,\n",
    "        *,\n",
    "        apply_fn,\n",
    "        params,\n",
    "        tx,\n",
    "        λ_schedule,\n",
    "        **kwargs,\n",
    "    ):\n",
    "        opt_state = tx.init(params)\n",
    "        if kwargs.get(\"polyak_step_size\", None) is not None:\n",
    "            avg_params = params\n",
    "        else:\n",
    "            avg_params = None\n",
    "        return cls(\n",
    "            step=0,\n",
    "            apply_fn=apply_fn,\n",
    "            params=params,\n",
    "            tx=tx,\n",
    "            opt_state=opt_state,\n",
    "            λ_schedule=λ_schedule,\n",
    "            λ=λ_schedule(0),\n",
    "            avg_params=avg_params,\n",
    "            **kwargs,\n",
    "        )\n",
    "\n",
    "def reset_metrics(state):\n",
    "    return state.replace(metrics=state.metrics.empty())"
   ]
  },
  {
   "cell_type": "code",
   "execution_count": 7,
   "metadata": {},
   "outputs": [],
   "source": [
    "from typing import Callable, Mapping, Optional, Sequence\n",
    "from chex import Array, PRNGKey\n",
    "import numpy as np\n",
    "from flax.linen import initializers as init\n",
    "\n",
    "KwArgs = Mapping[str, Any]\n",
    "\n",
    "INV_SOFTPLUS_1 = jnp.log(jnp.exp(1) - 1.0)\n",
    "\n",
    "\n",
    "def approximate_mode(\n",
    "    distribution: distrax.Distribution, num_samples: int, rng: PRNGKey\n",
    ") -> Array:\n",
    "    \"\"\"Approximates the mode of a distribution by taking a number of samples and returning the most likely.\n",
    "\n",
    "    Args:\n",
    "        distribution: A distribution.\n",
    "        num_samples: The number of samples to take.\n",
    "        rng: A PRNG key.\n",
    "\n",
    "    Returns:\n",
    "        An approximate mode.\n",
    "    \"\"\"\n",
    "    samples, log_probs = distribution.sample_and_log_prob(\n",
    "        seed=rng, sample_shape=(num_samples,)\n",
    "    )\n",
    "    return samples[jnp.argmax(log_probs)]\n",
    "\n",
    "\n",
    "class TransformationInferenceNet(nn.Module):\n",
    "    event_shape: Sequence[int]\n",
    "    hidden_dims: Sequence[int]\n",
    "    bounds_array: Array\n",
    "    offset_array: Array\n",
    "    σ_init: Callable = init.constant(jnp.log(jnp.exp(.01) - 1.0))\n",
    "\n",
    "    @nn.compact\n",
    "    def __call__(self, x, train: bool = True):\n",
    "        h = x.flatten()\n",
    "\n",
    "        for hidden_dim in self.hidden_dims:\n",
    "            h = nn.Dense(hidden_dim)(h)\n",
    "            h = nn.relu(h)\n",
    "    \n",
    "        output_dim = np.prod(self.event_shape)\n",
    "        μ = nn.Dense(output_dim)(h)\n",
    "\n",
    "        # return jax.nn.tanh(μ) * self.bounds_array\n",
    "\n",
    "        # σ = jax.nn.softplus(nn.Dense(output_dim, name='σ_')(h)) \n",
    "        σ = jax.nn.softplus(self.param(\"σ_\", self.σ_init, self.event_shape))\n",
    "\n",
    "        # sample = distrax.Normal(loc=μ, scale=σ).sample(seed=self.make_rng('sample'))\n",
    "        # return jax.nn.tanh(sample) * self.bounds_array\n",
    "\n",
    "        base = distrax.Independent(\n",
    "            distrax.Normal(loc=μ, scale=σ),\n",
    "            len(self.event_shape)\n",
    "        )\n",
    "\n",
    "        bijector = distrax.Chain([\n",
    "            distrax.Block(\n",
    "                distrax.ScalarAffine(\n",
    "                    shift=self.offset_array, scale=self.bounds_array\n",
    "                ),\n",
    "                len(self.event_shape)\n",
    "            ),\n",
    "            distrax.Block(distrax.Tanh(), len(self.event_shape)),\n",
    "        ])\n",
    "    \n",
    "        return distrax.Transformed(base, bijector).sample(seed=self.make_rng('sample'))\n",
    "    \n",
    "    \n",
    "class PrototypicalGenerativeModel(nn.Module):\n",
    "    bounds: Sequence[int]\n",
    "    offset: Optional[Sequence[int]] = None\n",
    "    inference: Optional[KwArgs] = None\n",
    "\n",
    "    def setup(self) -> None:\n",
    "        self.bounds_array = jnp.array(self.bounds)\n",
    "        self.offset_array = (\n",
    "            jnp.array(self.offset)\n",
    "            if self.offset is not None\n",
    "            else jnp.zeros_like(self.bounds_array)\n",
    "        )\n",
    "        self.event_shape = self.bounds_array.shape\n",
    "        self.inference_net = TransformationInferenceNet(\n",
    "            event_shape=self.event_shape,\n",
    "            bounds_array=self.bounds_array,\n",
    "            offset_array=self.offset_array,\n",
    "            **(self.inference or {}),\n",
    "        )\n",
    "\n",
    "    \n",
    "    def __call__(self, x, train: bool = True):\n",
    "        # dist = self.inference_net(x, train=train)\n",
    "\n",
    "        # if train:\n",
    "        #     return dist.sample(seed=rng)\n",
    "        # else:\n",
    "        #     return approximate_mode(dist, 1000, rng=rng)\n",
    "        # return dist.sample(seed=rng)\n",
    "        return self.inference_net(x, train=train)"
   ]
  },
  {
   "cell_type": "code",
   "execution_count": 8,
   "metadata": {},
   "outputs": [
    {
     "name": "stderr",
     "output_type": "stream",
     "text": [
      "INFO:absl:\n",
      "+-------------------------------------+-------------+---------+-----------+--------+\n",
      "| Name                                | Shape       | Size    | Mean      | Std    |\n",
      "+-------------------------------------+-------------+---------+-----------+--------+\n",
      "| params/inference_net/Dense_0/bias   | (1024,)     | 1,024   | 0.0       | 0.0    |\n",
      "| params/inference_net/Dense_0/kernel | (784, 1024) | 802,816 | 8.62e-06  | 0.0357 |\n",
      "| params/inference_net/Dense_1/bias   | (512,)      | 512     | 0.0       | 0.0    |\n",
      "| params/inference_net/Dense_1/kernel | (1024, 512) | 524,288 | -7.33e-05 | 0.0313 |\n",
      "| params/inference_net/Dense_2/bias   | (256,)      | 256     | 0.0       | 0.0    |\n",
      "| params/inference_net/Dense_2/kernel | (512, 256)  | 131,072 | -4.57e-05 | 0.0441 |\n",
      "| params/inference_net/Dense_3/bias   | (128,)      | 128     | 0.0       | 0.0    |\n",
      "| params/inference_net/Dense_3/kernel | (256, 128)  | 32,768  | 8.77e-05  | 0.0624 |\n",
      "| params/inference_net/Dense_4/bias   | (5,)        | 5       | 0.0       | 0.0    |\n",
      "| params/inference_net/Dense_4/kernel | (128, 5)    | 640     | 0.00612   | 0.0879 |\n",
      "| params/inference_net/σ_             | (5,)        | 5       | -4.6      | 0.0    |\n",
      "+-------------------------------------+-------------+---------+-----------+--------+\n",
      "Total: 1,493,514\n"
     ]
    }
   ],
   "source": [
    "model = PrototypicalGenerativeModel(**config.model.to_dict())\n",
    "\n",
    "variables = model.init({'params': init_rng, 'sample': init_rng}, jnp.empty((28, 28, 1)), train=False)\n",
    "\n",
    "parameter_overview.log_parameter_overview(variables)"
   ]
  },
  {
   "cell_type": "markdown",
   "metadata": {},
   "source": [
    "## Self-supervised"
   ]
  },
  {
   "cell_type": "code",
   "execution_count": 9,
   "metadata": {},
   "outputs": [],
   "source": [
    "TOTAL_STEPS = 10_000\n",
    "LR = 1e-4\n",
    "N_SAMPLES = 5\n",
    "POLYAK_STEP_SIZE = None\n",
    "\n",
    "params = flax.core.freeze(variables[\"params\"])\n",
    "\n",
    "def lr_schedule(init_lr, peak_mult, final_mult, peak_steps): \n",
    "    return optax.warmup_cosine_decay_schedule(\n",
    "        init_lr, init_lr*peak_mult, peak_steps, TOTAL_STEPS, end_value=init_lr*final_mult\n",
    "    )\n",
    "\n",
    "def clipped_adamw(learning_rate, norm):\n",
    "    return optax.MultiSteps(optax.chain(\n",
    "        optax.clip_by_global_norm(norm),\n",
    "        optax.adamw(learning_rate=learning_rate)\n",
    "    ), 1)\n",
    "\n",
    "# create a multi_transform which uses the above clipped adamw optimizer for all but the σ_ parameter,\n",
    "# which uses a regular adam optimizer instead\n",
    "from flax import traverse_util\n",
    "partition_optimizers = {\n",
    "    \"params\": optax.inject_hyperparams(clipped_adamw)(lr_schedule(LR, 3, 1/30, TOTAL_STEPS//10), 2.),\n",
    "    \"σ\": optax.adam(lr_schedule(LR * 100, 3, 1/3, TOTAL_STEPS//10)),\n",
    "}\n",
    "param_partitions = flax.core.freeze(traverse_util.path_aware_map(\n",
    "    lambda path, v: \"σ\" if \"σ_\" in path else \"params\", params\n",
    "))\n",
    "opt = optax.multi_transform(partition_optimizers, param_partitions)\n",
    "\n",
    "\n",
    "state = TrainState.create(\n",
    "    apply_fn=model.apply,\n",
    "    params=params,\n",
    "    # tx=optax.inject_hyperparams(clipped_adamw)(lr_schedule(LR, 3, 1/30, TOTAL_STEPS//10), 2.),\n",
    "    tx=opt,\n",
    "    metrics=Metrics.empty(),\n",
    "    rng=state_rng,\n",
    "    λ_schedule=optax.cosine_decay_schedule(1, TOTAL_STEPS, 1),\n",
    "    polyak_step_size=POLYAK_STEP_SIZE,\n",
    ")"
   ]
  },
  {
   "cell_type": "code",
   "execution_count": 10,
   "metadata": {},
   "outputs": [],
   "source": [
    "def loss_fn(\n",
    "    x, params, state, step_rng, train, n_samples,\n",
    "):\n",
    "    \"\"\"Self-supervised loss function. \n",
    "    \n",
    "    The loss can be summarised with the following diagram\n",
    "\n",
    "            x ------- -η_x -----> x_hat\n",
    "            |                       |\n",
    "            |                       v\n",
    "         η_rand                    mse\n",
    "            |                       ∧\n",
    "            ∨                       |\n",
    "         x_rand --- -η_x_rand ---> x_hat'.\n",
    "\n",
    "    However, implementing this directly requires doing 3 affine transformations, which adds 'blur' to the image.\n",
    "    So instead we note that the diagram above is equivalent to\n",
    "\n",
    "            x --------> mse <------- x'\n",
    "            |                        ∧\n",
    "            |                        |\n",
    "         η_rand                     η_x\n",
    "            |                        |\n",
    "            v                        |\n",
    "         x_rand --- -η_x_rand ---> x_hat'.\n",
    "\n",
    "    Finally, this computation can be simplified to\n",
    "\n",
    "            x --------> mse <-------- x'\n",
    "            |                         ∧\n",
    "            └ η_rand - η_x_rand + η_x ┘\n",
    "\n",
    "    which contains only a single transformation.\n",
    "\n",
    "    \"\"\"\n",
    "    rng_local = random.fold_in(step_rng, lax.axis_index(\"batch\"))\n",
    "    \n",
    "    def per_sample_loss(rng):\n",
    "        rng_sample1, rng_sample2, rng_η_rand, = random.split(rng, 3)\n",
    "\n",
    "        η_x = state.apply_fn(\n",
    "            {\"params\": params}, x, train, rngs={\"sample\": rng_sample1}\n",
    "        )\n",
    "\n",
    "        Η_rand = distrax.Uniform(\n",
    "            low=-jnp.array(config.model.bounds),\n",
    "            high=jnp.array(config.model.bounds)\n",
    "        )\n",
    "        η_rand = Η_rand.sample(seed=rng_η_rand, sample_shape=()) + jnp.array(config.model.offset)\n",
    "\n",
    "        x_rand = transform_image(x, η_rand)\n",
    "        η_x_rand = state.apply_fn(\n",
    "            {\"params\": params}, x_rand, train, rngs={\"sample\": rng_sample2}\n",
    "        )\n",
    "\n",
    "        x_mse = optax.squared_error(x, transform_image(x, η_rand - η_x_rand + η_x)).mean()\n",
    "\n",
    "        difficulty = optax.squared_error(x, x_rand).mean()\n",
    "\n",
    "        return x_mse, difficulty\n",
    "    \n",
    "    rngs = random.split(rng_local, n_samples)\n",
    "    x_mse, difficulty = jax.vmap(per_sample_loss)(rngs)\n",
    "    \n",
    "    # do a weighted average based on the difficulty of the sample\n",
    "    weights = difficulty / difficulty.sum()\n",
    "    x_mse, = jax.tree_map(lambda x: (x * weights).sum(axis=0), (x_mse,))\n",
    "    loss = x_mse\n",
    "\n",
    "    return loss, {\"loss\": loss, \"x_mse\": x_mse}"
   ]
  },
  {
   "cell_type": "code",
   "execution_count": 11,
   "metadata": {},
   "outputs": [],
   "source": [
    "@jax.jit\n",
    "def train_step(state, batch):\n",
    "    step_rng = random.fold_in(state.rng, state.step)\n",
    "\n",
    "    def batch_loss_fn(params):\n",
    "        losses, metrics = jax.vmap(loss_fn, in_axes=(0, None, None, None, None, None), axis_name=\"batch\")(\n",
    "            batch[\"image\"][0], params, state, step_rng, True, N_SAMPLES,\n",
    "        )\n",
    "\n",
    "        avg_loss = losses.mean(axis=0)\n",
    "\n",
    "        return avg_loss, metrics\n",
    "\n",
    "    (_, metrics), grads = jax.value_and_grad(batch_loss_fn, has_aux=True)(state.params)\n",
    "    state = state.apply_gradients(grads=grads)\n",
    "\n",
    "    metrics = state.metrics.update(\n",
    "        **metrics\n",
    "    )\n",
    "    logs = ciclo.logs()\n",
    "    logs.add_stateful_metrics(**metrics.compute())\n",
    "    logs.add_entry(\"schedules\", \"λ\", state.λ)\n",
    "    # logs.add_entry(\"schedules\", \"lr\", state.opt_state.hyperparams[\"learning_rate\"])\n",
    "    logs.add_entry(\"schedules\", \"lr\", state.opt_state.inner_states['params'][0].hyperparams[\"learning_rate\"])\n",
    "    logs.add_entry(\"gradients\", \"grad_norm\", optax.global_norm(grads))\n",
    "\n",
    "    return logs, state.replace(metrics=metrics)\n",
    "\n",
    "\n",
    "@jax.jit\n",
    "def eval_step(state, batch):\n",
    "    step_rng = random.fold_in(state.rng, state.step)\n",
    "\n",
    "    masks = batch[\"mask\"][0]\n",
    "\n",
    "    def batch_loss_fn(params):\n",
    "        losses, metrics = jax.vmap(loss_fn, in_axes=(0, None, None, None, None, None), axis_name=\"batch\")(\n",
    "            batch[\"image\"][0], params, state, step_rng, False, 1\n",
    "        )\n",
    "\n",
    "        avg_loss = (losses * masks).sum(axis=0) / masks.sum(axis=0)\n",
    "\n",
    "        return avg_loss, metrics\n",
    "\n",
    "    # _, metrics = batch_loss_fn(state.params)\n",
    "    _, metrics = batch_loss_fn(state.params if state.avg_params is None else state.avg_params)\n",
    "\n",
    "    metrics = state.metrics.update(\n",
    "        **metrics, mask=masks\n",
    "    )\n",
    "    logs = ciclo.logs()\n",
    "    logs.add_stateful_metrics(**metrics.compute())\n",
    "\n",
    "    return logs, state.replace(metrics=metrics)"
   ]
  },
  {
   "cell_type": "code",
   "execution_count": 12,
   "metadata": {},
   "outputs": [
    {
     "name": "stderr",
     "output_type": "stream",
     "text": [
      "INFO:absl:Saving checkpoint at step: -0.45680514\n",
      "INFO:absl:Using Orbax as backend to save Flax checkpoints. For potential troubleshooting see: https://flax.readthedocs.io/en/latest/guides/use_checkpointing.html#orbax-as-backend-troubleshooting\n",
      "INFO:absl:Saving item to checkpoint/checkpoint_-0.45680513978004456.\n",
      "INFO:absl:Renaming checkpoint/checkpoint_-0.45680513978004456.orbax-checkpoint-tmp-1693518673949249 to checkpoint/checkpoint_-0.45680513978004456\n",
      "INFO:absl:Finished saving checkpoint to `checkpoint/checkpoint_-0.45680513978004456`.\n",
      "INFO:absl:Removing checkpoint at checkpoint/checkpoint_-0.1966547667980194\n"
     ]
    },
    {
     "name": "stdout",
     "output_type": "stream",
     "text": [
      "   98/10000 [..............................] - ETA: 22:07 - loss: 0.3805 - x_mse: 0.3805 - loss_test: 0.4568 - x_mse_test: 0.4568"
     ]
    },
    {
     "name": "stderr",
     "output_type": "stream",
     "text": [
      "INFO:absl:Saving checkpoint at step: -0.33957806\n",
      "INFO:absl:Using Orbax as backend to save Flax checkpoints. For potential troubleshooting see: https://flax.readthedocs.io/en/latest/guides/use_checkpointing.html#orbax-as-backend-troubleshooting\n",
      "INFO:absl:Saving item to checkpoint/checkpoint_-0.3395780622959137.\n",
      "INFO:absl:Renaming checkpoint/checkpoint_-0.3395780622959137.orbax-checkpoint-tmp-1693518676205787 to checkpoint/checkpoint_-0.3395780622959137\n",
      "INFO:absl:Finished saving checkpoint to `checkpoint/checkpoint_-0.3395780622959137`.\n",
      "INFO:absl:Removing checkpoint at checkpoint/checkpoint_-0.45680513978004456\n"
     ]
    },
    {
     "name": "stdout",
     "output_type": "stream",
     "text": [
      "  197/10000 [..............................] - ETA: 12:22 - loss: 0.3287 - x_mse: 0.3287 - loss_test: 0.3396 - x_mse_test: 0.3396"
     ]
    },
    {
     "name": "stderr",
     "output_type": "stream",
     "text": [
      "INFO:absl:Saving checkpoint at step: -0.3087315\n",
      "INFO:absl:Using Orbax as backend to save Flax checkpoints. For potential troubleshooting see: https://flax.readthedocs.io/en/latest/guides/use_checkpointing.html#orbax-as-backend-troubleshooting\n",
      "INFO:absl:Saving item to checkpoint/checkpoint_-0.3087314963340759.\n",
      "INFO:absl:Renaming checkpoint/checkpoint_-0.3087314963340759.orbax-checkpoint-tmp-1693518677981371 to checkpoint/checkpoint_-0.3087314963340759\n",
      "INFO:absl:Finished saving checkpoint to `checkpoint/checkpoint_-0.3087314963340759`.\n",
      "INFO:absl:Removing checkpoint at checkpoint/checkpoint_-0.3395780622959137\n"
     ]
    },
    {
     "name": "stdout",
     "output_type": "stream",
     "text": [
      "  296/10000 [..............................] - ETA: 9:06 - loss: 0.3129 - x_mse: 0.3129 - loss_test: 0.3087 - x_mse_test: 0.3087"
     ]
    },
    {
     "name": "stderr",
     "output_type": "stream",
     "text": [
      "INFO:absl:Saving checkpoint at step: -0.2973385\n",
      "INFO:absl:Using Orbax as backend to save Flax checkpoints. For potential troubleshooting see: https://flax.readthedocs.io/en/latest/guides/use_checkpointing.html#orbax-as-backend-troubleshooting\n",
      "INFO:absl:Saving item to checkpoint/checkpoint_-0.29733848571777344.\n",
      "INFO:absl:Renaming checkpoint/checkpoint_-0.29733848571777344.orbax-checkpoint-tmp-1693518679763070 to checkpoint/checkpoint_-0.29733848571777344\n",
      "INFO:absl:Finished saving checkpoint to `checkpoint/checkpoint_-0.29733848571777344`.\n",
      "INFO:absl:Removing checkpoint at checkpoint/checkpoint_-0.3087314963340759\n"
     ]
    },
    {
     "name": "stdout",
     "output_type": "stream",
     "text": [
      "  499/10000 [>.............................] - ETA: 6:24 - loss: 0.2963 - x_mse: 0.2963 - loss_test: 0.3007 - x_mse_test: 0.3007"
     ]
    },
    {
     "name": "stderr",
     "output_type": "stream",
     "text": [
      "INFO:absl:Saving checkpoint at step: -0.29156324\n",
      "INFO:absl:Using Orbax as backend to save Flax checkpoints. For potential troubleshooting see: https://flax.readthedocs.io/en/latest/guides/use_checkpointing.html#orbax-as-backend-troubleshooting\n",
      "INFO:absl:Saving item to checkpoint/checkpoint_-0.2915632426738739.\n",
      "INFO:absl:Renaming checkpoint/checkpoint_-0.2915632426738739.orbax-checkpoint-tmp-1693518683288704 to checkpoint/checkpoint_-0.2915632426738739\n",
      "INFO:absl:Finished saving checkpoint to `checkpoint/checkpoint_-0.2915632426738739`.\n",
      "INFO:absl:Removing checkpoint at checkpoint/checkpoint_-0.29733848571777344\n"
     ]
    },
    {
     "name": "stdout",
     "output_type": "stream",
     "text": [
      "  596/10000 [>.............................] - ETA: 5:46 - loss: 0.2945 - x_mse: 0.2945 - loss_test: 0.2916 - x_mse_test: 0.2916"
     ]
    },
    {
     "name": "stderr",
     "output_type": "stream",
     "text": [
      "INFO:absl:Saving checkpoint at step: -0.28582048\n",
      "INFO:absl:Using Orbax as backend to save Flax checkpoints. For potential troubleshooting see: https://flax.readthedocs.io/en/latest/guides/use_checkpointing.html#orbax-as-backend-troubleshooting\n",
      "INFO:absl:Saving item to checkpoint/checkpoint_-0.28582048416137695.\n",
      "INFO:absl:Renaming checkpoint/checkpoint_-0.28582048416137695.orbax-checkpoint-tmp-1693518685073941 to checkpoint/checkpoint_-0.28582048416137695\n",
      "INFO:absl:Finished saving checkpoint to `checkpoint/checkpoint_-0.28582048416137695`.\n",
      "INFO:absl:Removing checkpoint at checkpoint/checkpoint_-0.2915632426738739\n"
     ]
    },
    {
     "name": "stdout",
     "output_type": "stream",
     "text": [
      "  797/10000 [=>............................] - ETA: 4:52 - loss: 0.2882 - x_mse: 0.2882 - loss_test: 0.2873 - x_mse_test: 0.2873"
     ]
    },
    {
     "name": "stderr",
     "output_type": "stream",
     "text": [
      "INFO:absl:Saving checkpoint at step: -0.27945983\n",
      "INFO:absl:Using Orbax as backend to save Flax checkpoints. For potential troubleshooting see: https://flax.readthedocs.io/en/latest/guides/use_checkpointing.html#orbax-as-backend-troubleshooting\n",
      "INFO:absl:Saving item to checkpoint/checkpoint_-0.2794598340988159.\n",
      "INFO:absl:Renaming checkpoint/checkpoint_-0.2794598340988159.orbax-checkpoint-tmp-1693518688413942 to checkpoint/checkpoint_-0.2794598340988159\n",
      "INFO:absl:Finished saving checkpoint to `checkpoint/checkpoint_-0.2794598340988159`.\n",
      "INFO:absl:Removing checkpoint at checkpoint/checkpoint_-0.28582048416137695\n"
     ]
    },
    {
     "name": "stdout",
     "output_type": "stream",
     "text": [
      "  896/10000 [=>............................] - ETA: 4:35 - loss: 0.2908 - x_mse: 0.2908 - loss_test: 0.2795 - x_mse_test: 0.2795"
     ]
    },
    {
     "name": "stderr",
     "output_type": "stream",
     "text": [
      "INFO:absl:Saving checkpoint at step: -0.27687055\n",
      "INFO:absl:Using Orbax as backend to save Flax checkpoints. For potential troubleshooting see: https://flax.readthedocs.io/en/latest/guides/use_checkpointing.html#orbax-as-backend-troubleshooting\n",
      "INFO:absl:Saving item to checkpoint/checkpoint_-0.2768705487251282.\n",
      "INFO:absl:Renaming checkpoint/checkpoint_-0.2768705487251282.orbax-checkpoint-tmp-1693518690168404 to checkpoint/checkpoint_-0.2768705487251282\n",
      "INFO:absl:Finished saving checkpoint to `checkpoint/checkpoint_-0.2768705487251282`.\n",
      "INFO:absl:Removing checkpoint at checkpoint/checkpoint_-0.2794598340988159\n"
     ]
    },
    {
     "name": "stdout",
     "output_type": "stream",
     "text": [
      " 1198/10000 [==>...........................] - ETA: 3:57 - loss: 0.2833 - x_mse: 0.2833 - loss_test: 0.2886 - x_mse_test: 0.2886"
     ]
    },
    {
     "name": "stderr",
     "output_type": "stream",
     "text": [
      "INFO:absl:Saving checkpoint at step: -0.27463052\n",
      "INFO:absl:Using Orbax as backend to save Flax checkpoints. For potential troubleshooting see: https://flax.readthedocs.io/en/latest/guides/use_checkpointing.html#orbax-as-backend-troubleshooting\n",
      "INFO:absl:Saving item to checkpoint/checkpoint_-0.27463051676750183.\n",
      "INFO:absl:Renaming checkpoint/checkpoint_-0.27463051676750183.orbax-checkpoint-tmp-1693518695328100 to checkpoint/checkpoint_-0.27463051676750183\n",
      "INFO:absl:Finished saving checkpoint to `checkpoint/checkpoint_-0.27463051676750183`.\n",
      "INFO:absl:Removing checkpoint at checkpoint/checkpoint_-0.2768705487251282\n"
     ]
    },
    {
     "name": "stdout",
     "output_type": "stream",
     "text": [
      " 1898/10000 [====>.........................] - ETA: 3:13 - loss: 0.2744 - x_mse: 0.2744 - loss_test: 0.2787 - x_mse_test: 0.2787"
     ]
    },
    {
     "name": "stderr",
     "output_type": "stream",
     "text": [
      "INFO:absl:Saving checkpoint at step: -0.27029473\n",
      "INFO:absl:Using Orbax as backend to save Flax checkpoints. For potential troubleshooting see: https://flax.readthedocs.io/en/latest/guides/use_checkpointing.html#orbax-as-backend-troubleshooting\n",
      "INFO:absl:Saving item to checkpoint/checkpoint_-0.270294725894928.\n",
      "INFO:absl:Renaming checkpoint/checkpoint_-0.270294725894928.orbax-checkpoint-tmp-1693518708501315 to checkpoint/checkpoint_-0.270294725894928\n",
      "INFO:absl:Finished saving checkpoint to `checkpoint/checkpoint_-0.270294725894928`.\n",
      "INFO:absl:Removing checkpoint at checkpoint/checkpoint_-0.27463051676750183\n"
     ]
    },
    {
     "name": "stdout",
     "output_type": "stream",
     "text": [
      " 1997/10000 [====>.........................] - ETA: 3:09 - loss: 0.2727 - x_mse: 0.2727 - loss_test: 0.2703 - x_mse_test: 0.2703"
     ]
    },
    {
     "name": "stderr",
     "output_type": "stream",
     "text": [
      "INFO:absl:Saving checkpoint at step: -0.26201364\n",
      "INFO:absl:Using Orbax as backend to save Flax checkpoints. For potential troubleshooting see: https://flax.readthedocs.io/en/latest/guides/use_checkpointing.html#orbax-as-backend-troubleshooting\n",
      "INFO:absl:Saving item to checkpoint/checkpoint_-0.26201364398002625.\n",
      "INFO:absl:Renaming checkpoint/checkpoint_-0.26201364398002625.orbax-checkpoint-tmp-1693518710465996 to checkpoint/checkpoint_-0.26201364398002625\n",
      "INFO:absl:Finished saving checkpoint to `checkpoint/checkpoint_-0.26201364398002625`.\n",
      "INFO:absl:Removing checkpoint at checkpoint/checkpoint_-0.270294725894928\n"
     ]
    },
    {
     "name": "stdout",
     "output_type": "stream",
     "text": [
      " 2796/10000 [=======>......................] - ETA: 2:37 - loss: 0.2637 - x_mse: 0.2637 - loss_test: 0.2642 - x_mse_test: 0.2642"
     ]
    },
    {
     "name": "stderr",
     "output_type": "stream",
     "text": [
      "INFO:absl:Saving checkpoint at step: -0.26040423\n",
      "INFO:absl:Using Orbax as backend to save Flax checkpoints. For potential troubleshooting see: https://flax.readthedocs.io/en/latest/guides/use_checkpointing.html#orbax-as-backend-troubleshooting\n",
      "INFO:absl:Saving item to checkpoint/checkpoint_-0.26040422916412354.\n",
      "INFO:absl:Renaming checkpoint/checkpoint_-0.26040422916412354.orbax-checkpoint-tmp-1693518724129341 to checkpoint/checkpoint_-0.26040422916412354\n",
      "INFO:absl:Finished saving checkpoint to `checkpoint/checkpoint_-0.26040422916412354`.\n",
      "INFO:absl:Removing checkpoint at checkpoint/checkpoint_-0.26201364398002625\n"
     ]
    },
    {
     "name": "stdout",
     "output_type": "stream",
     "text": [
      " 2996/10000 [=======>......................] - ETA: 2:31 - loss: 0.2584 - x_mse: 0.2584 - loss_test: 0.2628 - x_mse_test: 0.2628"
     ]
    },
    {
     "name": "stderr",
     "output_type": "stream",
     "text": [
      "INFO:absl:Saving checkpoint at step: -0.25512654\n",
      "INFO:absl:Using Orbax as backend to save Flax checkpoints. For potential troubleshooting see: https://flax.readthedocs.io/en/latest/guides/use_checkpointing.html#orbax-as-backend-troubleshooting\n",
      "INFO:absl:Saving item to checkpoint/checkpoint_-0.2551265358924866.\n",
      "INFO:absl:Renaming checkpoint/checkpoint_-0.2551265358924866.orbax-checkpoint-tmp-1693518727740269 to checkpoint/checkpoint_-0.2551265358924866\n",
      "INFO:absl:Finished saving checkpoint to `checkpoint/checkpoint_-0.2551265358924866`.\n",
      "INFO:absl:Removing checkpoint at checkpoint/checkpoint_-0.26040422916412354\n"
     ]
    },
    {
     "name": "stdout",
     "output_type": "stream",
     "text": [
      " 3096/10000 [========>.....................] - ETA: 2:28 - loss: 0.2537 - x_mse: 0.2537 - loss_test: 0.2551 - x_mse_test: 0.2551"
     ]
    },
    {
     "name": "stderr",
     "output_type": "stream",
     "text": [
      "INFO:absl:Saving checkpoint at step: -0.2467475\n",
      "INFO:absl:Using Orbax as backend to save Flax checkpoints. For potential troubleshooting see: https://flax.readthedocs.io/en/latest/guides/use_checkpointing.html#orbax-as-backend-troubleshooting\n",
      "INFO:absl:Saving item to checkpoint/checkpoint_-0.24674749374389648.\n",
      "INFO:absl:Renaming checkpoint/checkpoint_-0.24674749374389648.orbax-checkpoint-tmp-1693518729644454 to checkpoint/checkpoint_-0.24674749374389648\n",
      "INFO:absl:Finished saving checkpoint to `checkpoint/checkpoint_-0.24674749374389648`.\n",
      "INFO:absl:Removing checkpoint at checkpoint/checkpoint_-0.2551265358924866\n"
     ]
    },
    {
     "name": "stdout",
     "output_type": "stream",
     "text": [
      " 3296/10000 [========>.....................] - ETA: 2:22 - loss: 0.2438 - x_mse: 0.2438 - loss_test: 0.2471 - x_mse_test: 0.2471"
     ]
    },
    {
     "name": "stderr",
     "output_type": "stream",
     "text": [
      "INFO:absl:Saving checkpoint at step: -0.24448621\n",
      "INFO:absl:Using Orbax as backend to save Flax checkpoints. For potential troubleshooting see: https://flax.readthedocs.io/en/latest/guides/use_checkpointing.html#orbax-as-backend-troubleshooting\n",
      "INFO:absl:Saving item to checkpoint/checkpoint_-0.24448621273040771.\n",
      "INFO:absl:Renaming checkpoint/checkpoint_-0.24448621273040771.orbax-checkpoint-tmp-1693518733007419 to checkpoint/checkpoint_-0.24448621273040771\n",
      "INFO:absl:Finished saving checkpoint to `checkpoint/checkpoint_-0.24448621273040771`.\n",
      "INFO:absl:Removing checkpoint at checkpoint/checkpoint_-0.24674749374389648\n"
     ]
    },
    {
     "name": "stdout",
     "output_type": "stream",
     "text": [
      " 3396/10000 [=========>....................] - ETA: 2:19 - loss: 0.2421 - x_mse: 0.2421 - loss_test: 0.2445 - x_mse_test: 0.2445"
     ]
    },
    {
     "name": "stderr",
     "output_type": "stream",
     "text": [
      "INFO:absl:Saving checkpoint at step: -0.24027283\n",
      "INFO:absl:Using Orbax as backend to save Flax checkpoints. For potential troubleshooting see: https://flax.readthedocs.io/en/latest/guides/use_checkpointing.html#orbax-as-backend-troubleshooting\n",
      "INFO:absl:Saving item to checkpoint/checkpoint_-0.24027283489704132.\n",
      "INFO:absl:Renaming checkpoint/checkpoint_-0.24027283489704132.orbax-checkpoint-tmp-1693518734749764 to checkpoint/checkpoint_-0.24027283489704132\n",
      "INFO:absl:Finished saving checkpoint to `checkpoint/checkpoint_-0.24027283489704132`.\n",
      "INFO:absl:Removing checkpoint at checkpoint/checkpoint_-0.24448621273040771\n"
     ]
    },
    {
     "name": "stdout",
     "output_type": "stream",
     "text": [
      " 3499/10000 [=========>....................] - ETA: 2:16 - loss: 0.2377 - x_mse: 0.2377 - loss_test: 0.2403 - x_mse_test: 0.2403"
     ]
    },
    {
     "name": "stderr",
     "output_type": "stream",
     "text": [
      "INFO:absl:Saving checkpoint at step: -0.23002367\n",
      "INFO:absl:Using Orbax as backend to save Flax checkpoints. For potential troubleshooting see: https://flax.readthedocs.io/en/latest/guides/use_checkpointing.html#orbax-as-backend-troubleshooting\n",
      "INFO:absl:Saving item to checkpoint/checkpoint_-0.23002366721630096.\n",
      "INFO:absl:Renaming checkpoint/checkpoint_-0.23002366721630096.orbax-checkpoint-tmp-1693518736533159 to checkpoint/checkpoint_-0.23002366721630096\n",
      "INFO:absl:Finished saving checkpoint to `checkpoint/checkpoint_-0.23002366721630096`.\n",
      "INFO:absl:Removing checkpoint at checkpoint/checkpoint_-0.24027283489704132\n"
     ]
    },
    {
     "name": "stdout",
     "output_type": "stream",
     "text": [
      " 3996/10000 [==========>...................] - ETA: 2:02 - loss: 0.2310 - x_mse: 0.2310 - loss_test: 0.2314 - x_mse_test: 0.2314"
     ]
    },
    {
     "name": "stderr",
     "output_type": "stream",
     "text": [
      "INFO:absl:Saving checkpoint at step: -0.22702381\n",
      "INFO:absl:Using Orbax as backend to save Flax checkpoints. For potential troubleshooting see: https://flax.readthedocs.io/en/latest/guides/use_checkpointing.html#orbax-as-backend-troubleshooting\n",
      "INFO:absl:Saving item to checkpoint/checkpoint_-0.22702381014823914.\n",
      "INFO:absl:Renaming checkpoint/checkpoint_-0.22702381014823914.orbax-checkpoint-tmp-1693518744806138 to checkpoint/checkpoint_-0.22702381014823914\n",
      "INFO:absl:Finished saving checkpoint to `checkpoint/checkpoint_-0.22702381014823914`.\n",
      "INFO:absl:Removing checkpoint at checkpoint/checkpoint_-0.23002366721630096\n"
     ]
    },
    {
     "name": "stdout",
     "output_type": "stream",
     "text": [
      " 4096/10000 [===========>..................] - ETA: 2:00 - loss: 0.2322 - x_mse: 0.2322 - loss_test: 0.2270 - x_mse_test: 0.2270"
     ]
    },
    {
     "name": "stderr",
     "output_type": "stream",
     "text": [
      "INFO:absl:Saving checkpoint at step: -0.22476462\n",
      "INFO:absl:Using Orbax as backend to save Flax checkpoints. For potential troubleshooting see: https://flax.readthedocs.io/en/latest/guides/use_checkpointing.html#orbax-as-backend-troubleshooting\n",
      "INFO:absl:Saving item to checkpoint/checkpoint_-0.2247646152973175.\n",
      "INFO:absl:Renaming checkpoint/checkpoint_-0.2247646152973175.orbax-checkpoint-tmp-1693518746588720 to checkpoint/checkpoint_-0.2247646152973175\n",
      "INFO:absl:Finished saving checkpoint to `checkpoint/checkpoint_-0.2247646152973175`.\n",
      "INFO:absl:Removing checkpoint at checkpoint/checkpoint_-0.22702381014823914\n"
     ]
    },
    {
     "name": "stdout",
     "output_type": "stream",
     "text": [
      " 4296/10000 [===========>..................] - ETA: 1:55 - loss: 0.2270 - x_mse: 0.2270 - loss_test: 0.2272 - x_mse_test: 0.2272"
     ]
    },
    {
     "name": "stderr",
     "output_type": "stream",
     "text": [
      "INFO:absl:Saving checkpoint at step: -0.22296456\n",
      "INFO:absl:Using Orbax as backend to save Flax checkpoints. For potential troubleshooting see: https://flax.readthedocs.io/en/latest/guides/use_checkpointing.html#orbax-as-backend-troubleshooting\n",
      "INFO:absl:Saving item to checkpoint/checkpoint_-0.2229645550251007.\n",
      "INFO:absl:Renaming checkpoint/checkpoint_-0.2229645550251007.orbax-checkpoint-tmp-1693518750062820 to checkpoint/checkpoint_-0.2229645550251007\n",
      "INFO:absl:Finished saving checkpoint to `checkpoint/checkpoint_-0.2229645550251007`.\n",
      "INFO:absl:Removing checkpoint at checkpoint/checkpoint_-0.2247646152973175\n"
     ]
    },
    {
     "name": "stdout",
     "output_type": "stream",
     "text": [
      " 4496/10000 [============>.................] - ETA: 1:50 - loss: 0.2229 - x_mse: 0.2229 - loss_test: 0.2238 - x_mse_test: 0.2238"
     ]
    },
    {
     "name": "stderr",
     "output_type": "stream",
     "text": [
      "INFO:absl:Saving checkpoint at step: -0.22058979\n",
      "INFO:absl:Using Orbax as backend to save Flax checkpoints. For potential troubleshooting see: https://flax.readthedocs.io/en/latest/guides/use_checkpointing.html#orbax-as-backend-troubleshooting\n",
      "INFO:absl:Saving item to checkpoint/checkpoint_-0.2205897867679596.\n",
      "INFO:absl:Renaming checkpoint/checkpoint_-0.2205897867679596.orbax-checkpoint-tmp-1693518753419403 to checkpoint/checkpoint_-0.2205897867679596\n",
      "INFO:absl:Finished saving checkpoint to `checkpoint/checkpoint_-0.2205897867679596`.\n",
      "INFO:absl:Removing checkpoint at checkpoint/checkpoint_-0.2229645550251007\n"
     ]
    },
    {
     "name": "stdout",
     "output_type": "stream",
     "text": [
      " 4596/10000 [============>.................] - ETA: 1:48 - loss: 0.2216 - x_mse: 0.2216 - loss_test: 0.2206 - x_mse_test: 0.2206"
     ]
    },
    {
     "name": "stderr",
     "output_type": "stream",
     "text": [
      "INFO:absl:Saving checkpoint at step: -0.21670301\n",
      "INFO:absl:Using Orbax as backend to save Flax checkpoints. For potential troubleshooting see: https://flax.readthedocs.io/en/latest/guides/use_checkpointing.html#orbax-as-backend-troubleshooting\n",
      "INFO:absl:Saving item to checkpoint/checkpoint_-0.21670301258563995.\n",
      "INFO:absl:Renaming checkpoint/checkpoint_-0.21670301258563995.orbax-checkpoint-tmp-1693518755211195 to checkpoint/checkpoint_-0.21670301258563995\n",
      "INFO:absl:Finished saving checkpoint to `checkpoint/checkpoint_-0.21670301258563995`.\n",
      "INFO:absl:Removing checkpoint at checkpoint/checkpoint_-0.2205897867679596\n"
     ]
    },
    {
     "name": "stdout",
     "output_type": "stream",
     "text": [
      " 4696/10000 [=============>................] - ETA: 1:46 - loss: 0.2238 - x_mse: 0.2238 - loss_test: 0.2167 - x_mse_test: 0.2167"
     ]
    },
    {
     "name": "stderr",
     "output_type": "stream",
     "text": [
      "INFO:absl:Saving checkpoint at step: -0.21461199\n",
      "INFO:absl:Using Orbax as backend to save Flax checkpoints. For potential troubleshooting see: https://flax.readthedocs.io/en/latest/guides/use_checkpointing.html#orbax-as-backend-troubleshooting\n",
      "INFO:absl:Saving item to checkpoint/checkpoint_-0.2146119922399521.\n",
      "INFO:absl:Renaming checkpoint/checkpoint_-0.2146119922399521.orbax-checkpoint-tmp-1693518757008558 to checkpoint/checkpoint_-0.2146119922399521\n",
      "INFO:absl:Finished saving checkpoint to `checkpoint/checkpoint_-0.2146119922399521`.\n",
      "INFO:absl:Removing checkpoint at checkpoint/checkpoint_-0.21670301258563995\n"
     ]
    },
    {
     "name": "stdout",
     "output_type": "stream",
     "text": [
      " 5096/10000 [==============>...............] - ETA: 1:36 - loss: 0.2172 - x_mse: 0.2172 - loss_test: 0.2193 - x_mse_test: 0.2193"
     ]
    },
    {
     "name": "stderr",
     "output_type": "stream",
     "text": [
      "INFO:absl:Saving checkpoint at step: -0.2122025\n",
      "INFO:absl:Using Orbax as backend to save Flax checkpoints. For potential troubleshooting see: https://flax.readthedocs.io/en/latest/guides/use_checkpointing.html#orbax-as-backend-troubleshooting\n",
      "INFO:absl:Saving item to checkpoint/checkpoint_-0.2122025042772293.\n",
      "INFO:absl:Renaming checkpoint/checkpoint_-0.2122025042772293.orbax-checkpoint-tmp-1693518763663068 to checkpoint/checkpoint_-0.2122025042772293\n",
      "INFO:absl:Finished saving checkpoint to `checkpoint/checkpoint_-0.2122025042772293`.\n",
      "INFO:absl:Removing checkpoint at checkpoint/checkpoint_-0.2146119922399521\n"
     ]
    },
    {
     "name": "stdout",
     "output_type": "stream",
     "text": [
      " 5499/10000 [===============>..............] - ETA: 1:27 - loss: 0.2143 - x_mse: 0.2143 - loss_test: 0.2149 - x_mse_test: 0.2149"
     ]
    },
    {
     "name": "stderr",
     "output_type": "stream",
     "text": [
      "INFO:absl:Saving checkpoint at step: -0.21145774\n",
      "INFO:absl:Using Orbax as backend to save Flax checkpoints. For potential troubleshooting see: https://flax.readthedocs.io/en/latest/guides/use_checkpointing.html#orbax-as-backend-troubleshooting\n",
      "INFO:absl:Saving item to checkpoint/checkpoint_-0.2114577442407608.\n",
      "INFO:absl:Renaming checkpoint/checkpoint_-0.2114577442407608.orbax-checkpoint-tmp-1693518770381188 to checkpoint/checkpoint_-0.2114577442407608\n",
      "INFO:absl:Finished saving checkpoint to `checkpoint/checkpoint_-0.2114577442407608`.\n",
      "INFO:absl:Removing checkpoint at checkpoint/checkpoint_-0.2122025042772293\n"
     ]
    },
    {
     "name": "stdout",
     "output_type": "stream",
     "text": [
      " 6096/10000 [=================>............] - ETA: 1:14 - loss: 0.2122 - x_mse: 0.2122 - loss_test: 0.2141 - x_mse_test: 0.2141"
     ]
    },
    {
     "name": "stderr",
     "output_type": "stream",
     "text": [
      "INFO:absl:Saving checkpoint at step: -0.2104485\n",
      "INFO:absl:Using Orbax as backend to save Flax checkpoints. For potential troubleshooting see: https://flax.readthedocs.io/en/latest/guides/use_checkpointing.html#orbax-as-backend-troubleshooting\n",
      "INFO:absl:Saving item to checkpoint/checkpoint_-0.2104485034942627.\n",
      "INFO:absl:Renaming checkpoint/checkpoint_-0.2104485034942627.orbax-checkpoint-tmp-1693518780154404 to checkpoint/checkpoint_-0.2104485034942627\n",
      "INFO:absl:Finished saving checkpoint to `checkpoint/checkpoint_-0.2104485034942627`.\n",
      "INFO:absl:Removing checkpoint at checkpoint/checkpoint_-0.2114577442407608\n"
     ]
    },
    {
     "name": "stdout",
     "output_type": "stream",
     "text": [
      " 6297/10000 [=================>............] - ETA: 1:10 - loss: 0.2115 - x_mse: 0.2115 - loss_test: 0.2141 - x_mse_test: 0.2141"
     ]
    },
    {
     "name": "stderr",
     "output_type": "stream",
     "text": [
      "INFO:absl:Saving checkpoint at step: -0.20682542\n",
      "INFO:absl:Using Orbax as backend to save Flax checkpoints. For potential troubleshooting see: https://flax.readthedocs.io/en/latest/guides/use_checkpointing.html#orbax-as-backend-troubleshooting\n",
      "INFO:absl:Saving item to checkpoint/checkpoint_-0.20682542026042938.\n",
      "INFO:absl:Renaming checkpoint/checkpoint_-0.20682542026042938.orbax-checkpoint-tmp-1693518783574530 to checkpoint/checkpoint_-0.20682542026042938\n",
      "INFO:absl:Finished saving checkpoint to `checkpoint/checkpoint_-0.20682542026042938`.\n",
      "INFO:absl:Removing checkpoint at checkpoint/checkpoint_-0.2104485034942627\n"
     ]
    },
    {
     "name": "stdout",
     "output_type": "stream",
     "text": [
      " 6396/10000 [==================>...........] - ETA: 1:08 - loss: 0.2111 - x_mse: 0.2111 - loss_test: 0.2068 - x_mse_test: 0.2068"
     ]
    },
    {
     "name": "stderr",
     "output_type": "stream",
     "text": [
      "INFO:absl:Saving checkpoint at step: -0.20666924\n",
      "INFO:absl:Using Orbax as backend to save Flax checkpoints. For potential troubleshooting see: https://flax.readthedocs.io/en/latest/guides/use_checkpointing.html#orbax-as-backend-troubleshooting\n",
      "INFO:absl:Saving item to checkpoint/checkpoint_-0.20666924118995667.\n",
      "INFO:absl:Renaming checkpoint/checkpoint_-0.20666924118995667.orbax-checkpoint-tmp-1693518785355480 to checkpoint/checkpoint_-0.20666924118995667\n",
      "INFO:absl:Finished saving checkpoint to `checkpoint/checkpoint_-0.20666924118995667`.\n",
      "INFO:absl:Removing checkpoint at checkpoint/checkpoint_-0.20682542026042938\n"
     ]
    },
    {
     "name": "stdout",
     "output_type": "stream",
     "text": [
      " 6496/10000 [==================>...........] - ETA: 1:06 - loss: 0.2087 - x_mse: 0.2087 - loss_test: 0.2067 - x_mse_test: 0.2067"
     ]
    },
    {
     "name": "stderr",
     "output_type": "stream",
     "text": [
      "INFO:absl:Saving checkpoint at step: -0.20399596\n",
      "INFO:absl:Using Orbax as backend to save Flax checkpoints. For potential troubleshooting see: https://flax.readthedocs.io/en/latest/guides/use_checkpointing.html#orbax-as-backend-troubleshooting\n",
      "INFO:absl:Saving item to checkpoint/checkpoint_-0.2039959579706192.\n",
      "INFO:absl:Renaming checkpoint/checkpoint_-0.2039959579706192.orbax-checkpoint-tmp-1693518787126189 to checkpoint/checkpoint_-0.2039959579706192\n",
      "INFO:absl:Finished saving checkpoint to `checkpoint/checkpoint_-0.2039959579706192`.\n",
      "INFO:absl:Removing checkpoint at checkpoint/checkpoint_-0.20666924118995667\n"
     ]
    },
    {
     "name": "stdout",
     "output_type": "stream",
     "text": [
      " 6996/10000 [===================>..........] - ETA: 56s - loss: 0.2069 - x_mse: 0.2069 - loss_test: 0.2090 - x_mse_test: 0.2090"
     ]
    },
    {
     "name": "stderr",
     "output_type": "stream",
     "text": [
      "INFO:absl:Saving checkpoint at step: -0.2012788\n",
      "INFO:absl:Using Orbax as backend to save Flax checkpoints. For potential troubleshooting see: https://flax.readthedocs.io/en/latest/guides/use_checkpointing.html#orbax-as-backend-troubleshooting\n",
      "INFO:absl:Saving item to checkpoint/checkpoint_-0.20127880573272705.\n",
      "INFO:absl:Renaming checkpoint/checkpoint_-0.20127880573272705.orbax-checkpoint-tmp-1693518795387670 to checkpoint/checkpoint_-0.20127880573272705\n",
      "INFO:absl:Finished saving checkpoint to `checkpoint/checkpoint_-0.20127880573272705`.\n",
      "INFO:absl:Removing checkpoint at checkpoint/checkpoint_-0.2039959579706192\n"
     ]
    },
    {
     "name": "stdout",
     "output_type": "stream",
     "text": [
      " 7396/10000 [=====================>........] - ETA: 48s - loss: 0.2052 - x_mse: 0.2052 - loss_test: 0.2017 - x_mse_test: 0.2017"
     ]
    },
    {
     "name": "stderr",
     "output_type": "stream",
     "text": [
      "INFO:absl:Saving checkpoint at step: -0.19952962\n",
      "INFO:absl:Using Orbax as backend to save Flax checkpoints. For potential troubleshooting see: https://flax.readthedocs.io/en/latest/guides/use_checkpointing.html#orbax-as-backend-troubleshooting\n",
      "INFO:absl:Saving item to checkpoint/checkpoint_-0.19952961802482605.\n",
      "INFO:absl:Renaming checkpoint/checkpoint_-0.19952961802482605.orbax-checkpoint-tmp-1693518802156804 to checkpoint/checkpoint_-0.19952961802482605\n",
      "INFO:absl:Finished saving checkpoint to `checkpoint/checkpoint_-0.19952961802482605`.\n",
      "INFO:absl:Removing checkpoint at checkpoint/checkpoint_-0.20127880573272705\n"
     ]
    },
    {
     "name": "stdout",
     "output_type": "stream",
     "text": [
      " 7696/10000 [======================>.......] - ETA: 43s - loss: 0.2033 - x_mse: 0.2033 - loss_test: 0.2008 - x_mse_test: 0.2008"
     ]
    },
    {
     "name": "stderr",
     "output_type": "stream",
     "text": [
      "INFO:absl:Saving checkpoint at step: -0.1979414\n",
      "INFO:absl:Using Orbax as backend to save Flax checkpoints. For potential troubleshooting see: https://flax.readthedocs.io/en/latest/guides/use_checkpointing.html#orbax-as-backend-troubleshooting\n",
      "INFO:absl:Saving item to checkpoint/checkpoint_-0.197941392660141.\n",
      "INFO:absl:Renaming checkpoint/checkpoint_-0.197941392660141.orbax-checkpoint-tmp-1693518807237225 to checkpoint/checkpoint_-0.197941392660141\n",
      "INFO:absl:Finished saving checkpoint to `checkpoint/checkpoint_-0.197941392660141`.\n",
      "INFO:absl:Removing checkpoint at checkpoint/checkpoint_-0.19952961802482605\n"
     ]
    },
    {
     "name": "stdout",
     "output_type": "stream",
     "text": [
      " 7996/10000 [======================>.......] - ETA: 37s - loss: 0.2023 - x_mse: 0.2023 - loss_test: 0.2034 - x_mse_test: 0.2034"
     ]
    },
    {
     "name": "stderr",
     "output_type": "stream",
     "text": [
      "INFO:absl:Saving checkpoint at step: -0.19792165\n",
      "INFO:absl:Using Orbax as backend to save Flax checkpoints. For potential troubleshooting see: https://flax.readthedocs.io/en/latest/guides/use_checkpointing.html#orbax-as-backend-troubleshooting\n",
      "INFO:absl:Saving item to checkpoint/checkpoint_-0.19792164862155914.\n",
      "INFO:absl:Renaming checkpoint/checkpoint_-0.19792164862155914.orbax-checkpoint-tmp-1693518812312673 to checkpoint/checkpoint_-0.19792164862155914\n",
      "INFO:absl:Finished saving checkpoint to `checkpoint/checkpoint_-0.19792164862155914`.\n",
      "INFO:absl:Removing checkpoint at checkpoint/checkpoint_-0.197941392660141\n"
     ]
    },
    {
     "name": "stdout",
     "output_type": "stream",
     "text": [
      " 8496/10000 [========================>.....] - ETA: 27s - loss: 0.2004 - x_mse: 0.2004 - loss_test: 0.1981 - x_mse_test: 0.1981"
     ]
    },
    {
     "name": "stderr",
     "output_type": "stream",
     "text": [
      "INFO:absl:Saving checkpoint at step: -0.19728811\n",
      "INFO:absl:Using Orbax as backend to save Flax checkpoints. For potential troubleshooting see: https://flax.readthedocs.io/en/latest/guides/use_checkpointing.html#orbax-as-backend-troubleshooting\n",
      "INFO:absl:Saving item to checkpoint/checkpoint_-0.19728811085224152.\n",
      "INFO:absl:Renaming checkpoint/checkpoint_-0.19728811085224152.orbax-checkpoint-tmp-1693518820562992 to checkpoint/checkpoint_-0.19728811085224152\n",
      "INFO:absl:Finished saving checkpoint to `checkpoint/checkpoint_-0.19728811085224152`.\n",
      "INFO:absl:Removing checkpoint at checkpoint/checkpoint_-0.19792164862155914\n"
     ]
    },
    {
     "name": "stdout",
     "output_type": "stream",
     "text": [
      " 8796/10000 [=========================>....] - ETA: 22s - loss: 0.1994 - x_mse: 0.1994 - loss_test: 0.1991 - x_mse_test: 0.1991"
     ]
    },
    {
     "name": "stderr",
     "output_type": "stream",
     "text": [
      "INFO:absl:Saving checkpoint at step: -0.19704777\n",
      "INFO:absl:Using Orbax as backend to save Flax checkpoints. For potential troubleshooting see: https://flax.readthedocs.io/en/latest/guides/use_checkpointing.html#orbax-as-backend-troubleshooting\n",
      "INFO:absl:Saving item to checkpoint/checkpoint_-0.19704777002334595.\n",
      "INFO:absl:Renaming checkpoint/checkpoint_-0.19704777002334595.orbax-checkpoint-tmp-1693518825561603 to checkpoint/checkpoint_-0.19704777002334595\n",
      "INFO:absl:Finished saving checkpoint to `checkpoint/checkpoint_-0.19704777002334595`.\n",
      "INFO:absl:Removing checkpoint at checkpoint/checkpoint_-0.19728811085224152\n"
     ]
    },
    {
     "name": "stdout",
     "output_type": "stream",
     "text": [
      " 9696/10000 [============================>.] - ETA: 5s - loss: 0.1976 - x_mse: 0.1976 - loss_test: 0.1973 - x_mse_test: 0.1973"
     ]
    },
    {
     "name": "stderr",
     "output_type": "stream",
     "text": [
      "INFO:absl:Saving checkpoint at step: -0.19665477\n",
      "INFO:absl:Using Orbax as backend to save Flax checkpoints. For potential troubleshooting see: https://flax.readthedocs.io/en/latest/guides/use_checkpointing.html#orbax-as-backend-troubleshooting\n",
      "INFO:absl:Saving item to checkpoint/checkpoint_-0.1966547667980194.\n",
      "INFO:absl:Renaming checkpoint/checkpoint_-0.1966547667980194.orbax-checkpoint-tmp-1693518840674797 to checkpoint/checkpoint_-0.1966547667980194\n",
      "INFO:absl:Finished saving checkpoint to `checkpoint/checkpoint_-0.1966547667980194`.\n",
      "INFO:absl:Removing checkpoint at checkpoint/checkpoint_-0.19704777002334595\n"
     ]
    },
    {
     "name": "stdout",
     "output_type": "stream",
     "text": [
      "10000/10000 [==============================] - 183s 18ms/step - loss: 0.1976 - x_mse: 0.1976 - loss_test: 0.2004 - x_mse_test: 0.2004\n"
     ]
    }
   ],
   "source": [
    "state, history, _ = ciclo.train_loop(\n",
    "    state,\n",
    "    deterministic_data.start_input_pipeline(train_ds),\n",
    "    {\n",
    "        ciclo.on_train_step: [\n",
    "            train_step\n",
    "        ],\n",
    "        ciclo.on_reset_step: reset_metrics,\n",
    "        ciclo.on_test_step: eval_step,\n",
    "    },\n",
    "    test_dataset=lambda: deterministic_data.start_input_pipeline(val_ds),\n",
    "    epoch_duration=TOTAL_STEPS // 100,\n",
    "    callbacks=[\n",
    "        ciclo.keras_bar(total=TOTAL_STEPS),\n",
    "        # ciclo.early_stopping(\"loss_test\", patience=TOTAL_STEPS // 10, min_delta=1e-4, mode=\"min\", restore_best_weights=True),\n",
    "        ciclo.checkpoint(\"checkpoint\", monitor=\"loss_test\", mode=\"min\", overwrite=True),\n",
    "    ],\n",
    "    stop=TOTAL_STEPS + 1,\n",
    ")"
   ]
  },
  {
   "cell_type": "code",
   "execution_count": 13,
   "metadata": {},
   "outputs": [
    {
     "data": {
      "image/png": "[encoded data removed]",
      "text/plain": [
       "<Figure size 1500x500 with 3 Axes>"
      ]
     },
     "metadata": {},
     "output_type": "display_data"
    }
   ],
   "source": [
    "# plot the training history\n",
    "steps, loss, x_mse, λ, lr, grad_norm = history.collect(\n",
    "    \"steps\", \"loss\", \"x_mse\", \"λ\", \"lr\", \"grad_norm\"\n",
    ")\n",
    "steps_test, loss_test, x_mse_test = history.collect(\n",
    "    \"steps\", \"loss_test\", \"x_mse_test\"\n",
    ")\n",
    "\n",
    "n_plots = 3\n",
    "fig, axs = plt.subplots(1, n_plots, figsize=(5 * n_plots, 5))\n",
    "\n",
    "axs[0].plot(steps, loss, label=f\"train {loss[-1]:.4f}\")\n",
    "axs[0].plot(steps_test, loss_test, label=f\"test  {loss_test[-1]:.4f}\")\n",
    "axs[0].legend()\n",
    "axs[0].set_title(\"loss\")\n",
    "axs[0].set_yscale(\"log\")\n",
    "\n",
    "axs[1].plot(steps, x_mse, label=f\"train {x_mse[-1]:.4f}\")\n",
    "axs[1].plot(steps_test, x_mse_test, label=f\"test  {x_mse_test[-1]:.4f}\")\n",
    "axs[1].legend()\n",
    "axs[1].set_title(\"x_mse\")\n",
    "\n",
    "axs[2].plot(steps, lr, label=f\"{lr[-1]:.4f}\")\n",
    "axs[2].legend()\n",
    "axs[2].set_title(\"lr\")\n",
    "axs[2].set_yscale(\"log\")\n",
    "\n",
    "plt.show()"
   ]
  },
  {
   "cell_type": "code",
   "execution_count": 14,
   "metadata": {},
   "outputs": [
    {
     "name": "stderr",
     "output_type": "stream",
     "text": [
      "INFO:absl:Restoring orbax checkpoint from checkpoint/checkpoint_-0.1966547667980194\n",
      "INFO:absl:Restoring item from checkpoint/checkpoint_-0.1966547667980194.\n",
      "INFO:absl:Finished restoring checkpoint from checkpoint/checkpoint_-0.1966547667980194.\n"
     ]
    },
    {
     "data": {
      "text/plain": [
       "Array(9701, dtype=int32)"
      ]
     },
     "execution_count": 14,
     "metadata": {},
     "output_type": "execute_result"
    }
   ],
   "source": [
    "# load the best model using flax checkpointing\n",
    "from flax.training import checkpoints\n",
    "\n",
    "best_state = checkpoints.restore_checkpoint(ckpt_dir='checkpoint', target=state)\n",
    "best_state.step"
   ]
  },
  {
   "cell_type": "code",
   "execution_count": 15,
   "metadata": {},
   "outputs": [
    {
     "data": {
      "text/plain": [
       "Array(0.00010842, dtype=float32)"
      ]
     },
     "execution_count": 15,
     "metadata": {},
     "output_type": "execute_result"
    }
   ],
   "source": [
    "jax.nn.softplus(best_state.params['inference_net']['σ_']).mean()"
   ]
  },
  {
   "cell_type": "code",
   "execution_count": 16,
   "metadata": {},
   "outputs": [
    {
     "data": {
      "image/png": "[encoded data removed]",
      "text/plain": [
       "<Figure size 1500x300 with 26 Axes>"
      ]
     },
     "metadata": {},
     "output_type": "display_data"
    }
   ],
   "source": [
    "val_iter = deterministic_data.start_input_pipeline(val_ds)\n",
    "val_batch = next(val_iter)\n",
    "\n",
    "x_ = val_batch['image'][0][14]\n",
    "\n",
    "def get_proto(x):\n",
    "    η = best_state.apply_fn({\"params\": best_state.avg_params if best_state.avg_params is not None else best_state.params},\n",
    "                            x, train=False, rngs={\"sample\": rng})\n",
    "    xhat = transform_image(x, -η)\n",
    "    return xhat, η\n",
    "\n",
    "for mask in [\n",
    "    # jnp.array([0, 0, 1, 0, 0]),\n",
    "    # jnp.array([1, 1, 0, 0, 0]),\n",
    "    # jnp.array([0, 0, 0, 1, 1]),\n",
    "    jnp.array([1, 1, 1, 1, 1])\n",
    "]:\n",
    "\n",
    "    transformed_xs = jax.vmap(transform_image, in_axes=(None, 0))(\n",
    "        x_,\n",
    "        jnp.linspace(-jnp.array(config.model.bounds) * mask, jnp.array(config.model.bounds) * mask, 13)\n",
    "    )\n",
    "\n",
    "    xhats, ηs = jax.vmap(get_proto)(transformed_xs)\n",
    "\n",
    "    fig, axs = plt.subplots(2, len(xhats), figsize=(15, 3))\n",
    "\n",
    "    for ax, x in zip(axs[0], list(transformed_xs)):\n",
    "        ax.imshow(x, cmap='gray')\n",
    "        ax.set_xticks([])\n",
    "        ax.set_yticks([])\n",
    "\n",
    "    for ax, xhat in zip(axs[1], list(xhats)):\n",
    "        ax.imshow(xhat, cmap='gray')\n",
    "        ax.set_xticks([])\n",
    "        ax.set_yticks([])\n",
    "\n",
    "    plt.tight_layout()\n",
    "    plt.show()"
   ]
  },
  {
   "cell_type": "code",
   "execution_count": 17,
   "metadata": {},
   "outputs": [
    {
     "data": {
      "text/plain": [
       "[]"
      ]
     },
     "execution_count": 17,
     "metadata": {},
     "output_type": "execute_result"
    },
    {
     "data": {
      "image/png": "[encoded data removed]",
      "text/plain": [
       "<Figure size 1500x600 with 8 Axes>"
      ]
     },
     "metadata": {},
     "output_type": "display_data"
    }
   ],
   "source": [
    "# make a figure with 2 rows and 4 columns\n",
    "fig, axs = plt.subplots(2, 4, figsize=(15, 6))\n",
    "\n",
    "# plot the original image\n",
    "axs[0, 0].imshow(x_, cmap='gray')\n",
    "axs[0, 0].set_title(\"original\")\n",
    "axs[0, 0].set_xticks([])\n",
    "axs[0, 0].set_yticks([])\n",
    "\n",
    "# plot the corresponding prototype\n",
    "xhat, η = get_proto(x_)\n",
    "axs[1, 0].imshow(xhat, cmap='gray')\n",
    "axs[1, 0].set_title(\"prototype\")\n",
    "axs[1, 0].set_xticks([])\n",
    "axs[1, 0].set_yticks([])\n",
    "\n",
    "# plot x\n",
    "axs[0, 1].imshow(x, cmap='gray')\n",
    "axs[0, 1].set_title(\"final x\")\n",
    "axs[0, 1].set_xticks([])\n",
    "axs[0, 1].set_yticks([])\n",
    "\n",
    "# plot the corresponding prototype\n",
    "xhat, η = get_proto(x)\n",
    "axs[1, 1].imshow(xhat, cmap='gray')\n",
    "axs[1, 1].set_title(\"final x prototype\")\n",
    "axs[1, 1].set_xticks([])\n",
    "axs[1, 1].set_yticks([])\n",
    "\n",
    "# transform again and plot the result\n",
    "xx = transform_image(x, jnp.array(config.model.bounds))\n",
    "axs[0, 2].imshow(xx, cmap='gray')\n",
    "axs[0, 2].set_title(\"transformed x\")\n",
    "axs[0, 2].set_xticks([])\n",
    "axs[0, 2].set_yticks([])\n",
    "\n",
    "# plot the corresponding prototype\n",
    "xhat, η = get_proto(xx)\n",
    "axs[1, 2].imshow(xhat, cmap='gray')\n",
    "axs[1, 2].set_title(\"transformed x prototype\")\n",
    "axs[1, 2].set_xticks([])\n",
    "axs[1, 2].set_yticks([])\n",
    "\n",
    "# use that xhat as x\n",
    "axs[0, 3].imshow(xhat, cmap='gray')\n",
    "axs[0, 3].set_title(\"x_hat\")\n",
    "axs[0, 3].set_xticks([])\n",
    "axs[0, 3].set_yticks([])\n",
    "\n",
    "# plot the corresponding prototype\n",
    "xhat, η = get_proto(xhat)\n",
    "axs[1, 3].imshow(xhat, cmap='gray')\n",
    "axs[1, 3].set_title(\"x_hat prototype\")\n",
    "axs[1, 3].set_xticks([])\n",
    "axs[1, 3].set_yticks([])\n"
   ]
  },
  {
   "cell_type": "code",
   "execution_count": null,
   "metadata": {},
   "outputs": [],
   "source": []
  }
 ],
 "metadata": {
  "kernelspec": {
   "display_name": "inv",
   "language": "python",
   "name": "inv"
  },
  "language_info": {
   "codemirror_mode": {
    "name": "ipython",
    "version": 3
   },
   "file_extension": ".py",
   "mimetype": "text/x-python",
   "name": "python",
   "nbconvert_exporter": "python",
   "pygments_lexer": "ipython3",
   "version": "3.11.5"
  },
  "orig_nbformat": 4
 },
 "nbformat": 4,
 "nbformat_minor": 2
}
