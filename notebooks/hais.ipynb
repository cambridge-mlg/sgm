{
 "cells": [
  {
   "attachments": {},
   "cell_type": "markdown",
   "metadata": {},
   "source": [
    "### Testing Hamiltonian Annealed Importance Sampling"
   ]
  },
  {
   "cell_type": "code",
   "execution_count": 1,
   "metadata": {},
   "outputs": [],
   "source": [
    "import numpy as np\n",
    "import jax\n",
    "import jax.numpy as jnp\n",
    "from jax import random\n",
    "rng = random.PRNGKey(0)\n",
    "\n",
    "import tensorflow_probability as tfp\n",
    "import tensorflow as tf\n",
    "seed = 0\n",
    "\n",
    "## Uncomment these to test the jax backend\n",
    "# import tenflow_probabilisorflow_probability.substrates.jax as tfp\n",
    "# from tensorty.python.internal.backend.jax.compat import v2 as tf\n",
    "# seed = rng\n",
    "\n",
    "tfd = tfp.distributions"
   ]
  },
  {
   "cell_type": "code",
   "execution_count": 2,
   "metadata": {},
   "outputs": [],
   "source": [
    "rng = random.PRNGKey(0)"
   ]
  },
  {
   "attachments": {},
   "cell_type": "markdown",
   "metadata": {},
   "source": [
    "#### LogGamma from the TFP test suite"
   ]
  },
  {
   "cell_type": "code",
   "execution_count": 3,
   "metadata": {},
   "outputs": [
    {
     "name": "stderr",
     "output_type": "stream",
     "text": [
      "/var/home/jua23/.virtualenvs/inv/lib/python3.9/site-packages/tensorflow_probability/python/__init__.py:70: UserWarning: TensorFloat-32 matmul/conv are enabled for NVIDIA Ampere+ GPUs. The resulting loss of precision may hinder MCMC convergence. To turn off, run `tf.config.experimental.enable_tensor_float_32_execution(False)`. For more detail, see https://github.com/tensorflow/community/pull/287.\n",
      "  warnings.warn(\n"
     ]
    },
    {
     "name": "stdout",
     "output_type": "stream",
     "text": [
      "tf.Tensor(-2.1896644, shape=(), dtype=float32)\n",
      "tf.Tensor(-2.1972246, shape=(), dtype=float32)\n"
     ]
    }
   ],
   "source": [
    "num_chains = 100\n",
    "dims = 20\n",
    "dtype = np.float32\n",
    "\n",
    "shape_param = 2. # α\n",
    "rate_param = 3. # β\n",
    "independent_chain_ndims = 1\n",
    "\n",
    "def _log_gamma_log_prob(x, event_dims=()):\n",
    "    \"\"\"Computes unnormalized log-pdf of a log-gamma random variable.\n",
    "    Args:\n",
    "      x: Value of the random variable.\n",
    "      event_dims: Dimensions not to treat as independent.\n",
    "    Returns:\n",
    "      log_prob: The log-pdf up to a normalizing constant.\n",
    "    \"\"\"\n",
    "    return tf.reduce_sum(\n",
    "        (shape_param - 1) * x - rate_param * tf.math.exp(x),\n",
    "        axis=event_dims)\n",
    "\n",
    "proposal = tfd.Normal(loc=0., scale=1.)\n",
    "\n",
    "target = tfd.TransformedDistribution(\n",
    "      tfd.Gamma(concentration=dtype(shape_param), rate=dtype(rate_param)),\n",
    "  bijector=tfp.bijectors.Invert(tfp.bijectors.Exp()))\n",
    "\n",
    "def proposal_log_prob(x):\n",
    "  event_dims = tf.range(independent_chain_ndims, tf.rank(x))\n",
    "  return tf.reduce_sum(\n",
    "      tfd.Normal(loc=0., scale=1.).log_prob(x), axis=event_dims)\n",
    "\n",
    "def target_log_prob(x):\n",
    "  event_dims = tf.range(independent_chain_ndims, tf.rank(x))\n",
    "  return _log_gamma_log_prob(x, event_dims)\n",
    "\n",
    "num_steps = 200\n",
    "\n",
    "def make_kernel(tlp_fn):\n",
    "        return tfp.mcmc.HamiltonianMonteCarlo(\n",
    "            target_log_prob_fn=tlp_fn, step_size=0.5, num_leapfrog_steps=2)\n",
    "\n",
    "init = tfd.Normal(loc=0., scale=1.).sample((100,), seed=seed)\n",
    "\n",
    "event_shape = tf.shape(init)[independent_chain_ndims:]\n",
    "event_size = tf.reduce_prod(event_shape)\n",
    "\n",
    "log_true_normalizer = (-shape_param * tf.math.log(rate_param) +\n",
    "                        tf.math.lgamma(shape_param))\n",
    "log_true_normalizer *= tf.cast(event_size, log_true_normalizer.dtype)\n",
    "\n",
    "chains_state, ais_weights, kernels_results = (\n",
    "    tfp.mcmc.sample_annealed_importance_chain(\n",
    "        num_steps=num_steps,\n",
    "        # proposal_log_prob_fn=proposal_log_prob,\n",
    "        # target_log_prob_fn=target_log_prob,\n",
    "        proposal_log_prob_fn=proposal.log_prob,\n",
    "        target_log_prob_fn=lambda x: target.log_prob(x) + log_true_normalizer,\n",
    "        current_state=init,\n",
    "        make_kernel_fn=make_kernel, seed=seed))\n",
    "\n",
    "ais_weights_size = tf.cast(tf.size(ais_weights), ais_weights.dtype)\n",
    "log_estimated_normalizer = (\n",
    "    tf.reduce_logsumexp(ais_weights) -\n",
    "    tf.math.log(ais_weights_size))\n",
    "\n",
    "print(log_estimated_normalizer)\n",
    "print(log_true_normalizer)"
   ]
  },
  {
   "attachments": {},
   "cell_type": "markdown",
   "metadata": {},
   "source": [
    "#### LogGamma from the TFP docs"
   ]
  },
  {
   "attachments": {},
   "cell_type": "markdown",
   "metadata": {},
   "source": [
    "https://github.com/tensorflow/probability/blob/v0.19.0/tensorflow_probability/python/mcmc/sample_annealed_importance_test.py"
   ]
  },
  {
   "cell_type": "code",
   "execution_count": 4,
   "metadata": {},
   "outputs": [
    {
     "name": "stdout",
     "output_type": "stream",
     "text": [
      "tf.Tensor(-2.0605202, shape=(), dtype=float32)\n",
      "tf.Tensor(-2.1972246, shape=(), dtype=float32)\n"
     ]
    }
   ],
   "source": [
    "num_chains = 100\n",
    "dims = 20\n",
    "dtype = np.float32\n",
    "\n",
    "α = 2.\n",
    "β = 3.\n",
    "\n",
    "proposal = tfd.MultivariateNormalDiag(\n",
    "   loc=tf.zeros([dims], dtype=dtype))\n",
    "\n",
    "target = tfd.TransformedDistribution(\n",
    "  distribution=tfd.Sample(\n",
    "      tfd.Gamma(concentration=dtype(α), rate=dtype(β)),\n",
    "      sample_shape=[dims]),\n",
    "  bijector=tfp.bijectors.Invert(tfp.bijectors.Exp()))\n",
    "\n",
    "log_true_normalizer = tf.math.lgamma(α) - α * tf.math.log(β)\n",
    "\n",
    "chains_state, ais_weights, kernels_results = (\n",
    "    tfp.mcmc.sample_annealed_importance_chain(\n",
    "        num_steps=200,\n",
    "        proposal_log_prob_fn=proposal.log_prob,\n",
    "        target_log_prob_fn=lambda x: target.log_prob(x) + log_true_normalizer,\n",
    "        current_state=proposal.sample(num_chains, seed=seed),\n",
    "        make_kernel_fn=lambda tlp_fn: tfp.mcmc.HamiltonianMonteCarlo(\n",
    "          target_log_prob_fn=tlp_fn,\n",
    "          step_size=0.2,\n",
    "          num_leapfrog_steps=2),\n",
    "          seed=seed))\n",
    "\n",
    "log_estimated_normalizer = (tf.reduce_logsumexp(ais_weights)\n",
    "                            - np.log(num_chains))\n",
    "\n",
    "print(log_estimated_normalizer)\n",
    "print(log_true_normalizer)\n"
   ]
  },
  {
   "cell_type": "code",
   "execution_count": 26,
   "metadata": {},
   "outputs": [
    {
     "data": {
      "text/plain": [
       "<tfp.distributions.TransformedDistribution 'invert_expSampleGamma' batch_shape=[] event_shape=[20] dtype=float32>"
      ]
     },
     "execution_count": 26,
     "metadata": {},
     "output_type": "execute_result"
    }
   ],
   "source": [
    "target"
   ]
  },
  {
   "cell_type": "code",
   "execution_count": 27,
   "metadata": {},
   "outputs": [
    {
     "data": {
      "text/plain": [
       "<tfp.distributions.MultivariateNormalDiag 'MultivariateNormalDiag' batch_shape=[] event_shape=[1] dtype=float32>"
      ]
     },
     "execution_count": 27,
     "metadata": {},
     "output_type": "execute_result"
    }
   ],
   "source": [
    "proposal"
   ]
  },
  {
   "attachments": {},
   "cell_type": "markdown",
   "metadata": {},
   "source": [
    "#### Bayesian Linear Regression from the TFP docs"
   ]
  },
  {
   "cell_type": "code",
   "execution_count": 45,
   "metadata": {},
   "outputs": [
    {
     "name": "stdout",
     "output_type": "stream",
     "text": [
      "tf.Tensor(-0.18235588, shape=(), dtype=float32)\n"
     ]
    }
   ],
   "source": [
    "dtype = np.float32\n",
    "# Run 100 AIS chains in parallel\n",
    "num_chains = 100\n",
    "dims = 1\n",
    "\n",
    "μ_0 = tf.zeros(dims, dtype=dtype)\n",
    "Σ_0 = tf.eye(dims, dtype=dtype)\n",
    "σ = .01\n",
    "\n",
    "\n",
    "\n",
    "def make_prior():\n",
    "  return tfd.MultivariateNormalDiag(\n",
    "      loc=μ_0, scale_diag=tf.linalg.tensor_diag_part(Σ_0))\n",
    "\n",
    "def make_likelihood(weights, x):\n",
    "  # return tfd.MultivariateNormalDiag(\n",
    "  #     loc=tf.einsum(\"nm,nm->nm\", x, weights), scale_diag=σ * tf.ones((num_chains, dims), dtype=dtype))\n",
    "  return tfd.Normal(\n",
    "      loc=tf.einsum(\"nm,nm->n\", x, weights),\n",
    "      scale=σ * tf.ones((num_chains,), dtype=dtype))\n",
    "\n",
    "\n",
    "# Make training data.\n",
    "x_rng, w_rng, y_rng = random.split(rng, 3)\n",
    "x = random.normal(x_rng, (num_chains, dims), dtype)\n",
    "true_weights = random.normal(w_rng, (dims,), dtype)\n",
    "y = np.dot(x, true_weights) + σ * random.normal(y_rng, (num_chains,), dtype)\n",
    "\n",
    "# Setup model.\n",
    "prior = make_prior()\n",
    "def target_log_prob_fn(weights):\n",
    "  return prior.log_prob(weights) + make_likelihood(weights, x).log_prob(y)\n",
    "\n",
    "proposal = tfd.MultivariateNormalDiag(\n",
    "    loc=tf.zeros(dims, dtype))\n",
    "\n",
    "weight_samples, ais_weights, kernel_results = (\n",
    "    tfp.mcmc.sample_annealed_importance_chain(\n",
    "      num_steps=200,\n",
    "      proposal_log_prob_fn=proposal.log_prob,\n",
    "      target_log_prob_fn=target_log_prob_fn,\n",
    "      current_state=prior.sample(num_chains, seed=seed), #tf.zeros([num_chains, dims], dtype),\n",
    "      make_kernel_fn=lambda tlp_fn: tfp.mcmc.HamiltonianMonteCarlo(\n",
    "        target_log_prob_fn=tlp_fn,\n",
    "        step_size=0.1,\n",
    "        num_leapfrog_steps=2), \n",
    "      # make_kernel_fn=lambda tlp_fn: tfp.mcmc.NoUTurnSampler(\n",
    "      #   target_log_prob_fn=tlp_fn,\n",
    "      #   step_size=0.1),\n",
    "        seed=seed))\n",
    "log_normalizer_estimate = (tf.reduce_logsumexp(ais_weights)\n",
    "                           - np.log(num_chains))\n",
    "\n",
    "print(log_normalizer_estimate)\n"
   ]
  },
  {
   "cell_type": "code",
   "execution_count": 46,
   "metadata": {},
   "outputs": [
    {
     "name": "stdout",
     "output_type": "stream",
     "text": [
      "tf.Tensor(304.22253, shape=(), dtype=float32)\n"
     ]
    }
   ],
   "source": [
    "def make_evidence(X):\n",
    "    mean = tf.einsum(\"nm,m->n\", X, μ_0)\n",
    "    var = X @ Σ_0 @ tf.transpose(X) + σ**2 * tf.eye(num_chains)\n",
    "\n",
    "    return tfd.MultivariateNormalFullCovariance(\n",
    "        loc=mean,\n",
    "        covariance_matrix=var)\n",
    "\n",
    "print(make_evidence(x).log_prob(y))"
   ]
  },
  {
   "cell_type": "code",
   "execution_count": 44,
   "metadata": {},
   "outputs": [
    {
     "data": {
      "text/plain": [
       "array([-0.555008  ,  0.64811164,  0.36106637, -0.62956095,  0.6839977 ,\n",
       "        1.1524882 ,  0.4709547 , -0.6581082 ,  0.24107417, -0.02283283,\n",
       "        0.19492728, -0.9294237 , -1.0637267 ,  0.448683  , -0.17867398,\n",
       "        0.0054085 , -0.76171285, -0.33724046,  0.21614343, -0.04126224,\n",
       "        0.2985184 , -0.95977587,  0.48037645,  0.08838923, -0.43512648,\n",
       "       -1.1337018 ,  0.20574404, -0.02180363, -0.5019763 ,  0.04223837,\n",
       "       -0.32269415,  0.3342762 , -0.7076715 , -0.5723325 ,  0.6807139 ,\n",
       "        0.8538231 ,  0.5951085 , -0.7882813 ,  0.35678887,  0.07028113,\n",
       "        0.11483616, -0.15576555, -0.7715699 , -0.72422713,  0.37517452,\n",
       "       -0.20552973,  0.5832004 ,  0.27629483, -0.28311706, -0.94119465,\n",
       "       -0.18647191, -1.0897077 ,  0.80816424,  0.4845704 ,  0.02891979,\n",
       "        0.38963977, -0.12723228, -0.19480483, -0.21068431, -0.5622996 ,\n",
       "        0.57014126,  0.5398224 ,  0.69954157, -0.5477924 ,  0.6984031 ,\n",
       "        0.15822472, -0.6824107 ,  0.32123387,  0.5557636 ,  0.9102517 ,\n",
       "        0.50944006,  0.22674827,  0.8970573 ,  0.05232082,  0.8593801 ,\n",
       "       -0.8415084 ,  0.0364138 , -0.8038943 ,  0.32172912, -0.6014142 ,\n",
       "       -0.61360174, -0.50143933, -0.7577238 ,  0.13108996, -0.05600801,\n",
       "       -0.52309364, -0.67225665,  0.81094193,  1.1118537 ,  0.6305071 ,\n",
       "        1.039505  , -0.1688584 , -0.07426389, -0.04498604, -0.9559295 ,\n",
       "       -1.2192247 , -0.5476249 ,  0.5337301 , -0.3330797 ,  1.5642834 ],\n",
       "      dtype=float32)"
      ]
     },
     "execution_count": 44,
     "metadata": {},
     "output_type": "execute_result"
    }
   ],
   "source": [
    "np.dot(x, true_weights)"
   ]
  },
  {
   "cell_type": "code",
   "execution_count": 30,
   "metadata": {},
   "outputs": [
    {
     "data": {
      "text/plain": [
       "<tfp.distributions.MultivariateNormalFullCovariance 'MultivariateNormalFullCovariance' batch_shape=[] event_shape=[200] dtype=float32>"
      ]
     },
     "execution_count": 30,
     "metadata": {},
     "output_type": "execute_result"
    }
   ],
   "source": [
    "make_evidence(x)"
   ]
  },
  {
   "cell_type": "code",
   "execution_count": 31,
   "metadata": {},
   "outputs": [
    {
     "data": {
      "text/plain": [
       "<tfp.distributions.MultivariateNormalDiag 'MultivariateNormalDiag' batch_shape=[] event_shape=[2] dtype=float32>"
      ]
     },
     "execution_count": 31,
     "metadata": {},
     "output_type": "execute_result"
    }
   ],
   "source": [
    "prior"
   ]
  },
  {
   "cell_type": "code",
   "execution_count": 36,
   "metadata": {},
   "outputs": [
    {
     "data": {
      "text/plain": [
       "<tfp.distributions.Normal 'Normal' batch_shape=[200] event_shape=[] dtype=float32>"
      ]
     },
     "execution_count": 36,
     "metadata": {},
     "output_type": "execute_result"
    }
   ],
   "source": [
    "make_likelihood(weight_samples, x)"
   ]
  },
  {
   "cell_type": "code",
   "execution_count": 37,
   "metadata": {},
   "outputs": [
    {
     "data": {
      "text/plain": [
       "<tf.Tensor: shape=(200,), dtype=float32, numpy=\n",
       "array([-2.04182816e+00, -4.01725494e+02, -3.13177252e+00, -7.44948669e+02,\n",
       "       -3.51725098e+02, -2.33914137e+00, -2.11889410e+00, -1.64997101e+00,\n",
       "       -8.52647171e+01, -4.06426764e+00, -2.78958845e+00, -4.45868683e+02,\n",
       "       -5.83225203e+00, -1.79815888e+00, -4.45596924e+01, -2.29333925e+00,\n",
       "       -2.35432100e+00, -2.03694687e+02, -8.50046814e+02, -1.48989685e+03,\n",
       "       -3.25154572e+02, -8.26057911e-01, -2.61331696e+02, -2.10980368e+00,\n",
       "       -2.55607056e+02, -2.23822260e+00, -7.40023017e-01, -1.59524930e+00,\n",
       "       -3.49467712e+02, -8.16077948e-01, -9.21989868e+02, -1.58126402e+00,\n",
       "       -1.31552029e+00, -2.59153628e+00, -2.36172342e+00, -2.29546677e+02,\n",
       "       -3.33462739e+00, -4.44852783e+02, -2.12858891e+00, -5.40152588e+02,\n",
       "       -5.00225878e+00, -1.87100816e+00, -1.90876591e+00, -5.47283268e+00,\n",
       "       -2.35615158e+02, -1.01408434e+00, -7.35563517e-01, -1.70783126e+00,\n",
       "       -4.72567439e-01, -4.81881653e+02, -4.69158077e+00, -1.08636677e+00,\n",
       "       -7.08087683e-01, -1.43294787e+00, -1.10835600e+00, -2.04690689e+02,\n",
       "       -1.35220242e+00, -1.15130866e+00, -3.54736090e+00, -4.96136597e+02,\n",
       "       -2.01835968e+02, -1.41626633e+02, -1.09206665e+02, -4.63475180e+00,\n",
       "       -1.70352188e+02, -4.22274971e+00, -4.88749981e+00, -5.29148340e-01,\n",
       "       -1.57636688e+02, -1.54034546e+02, -1.10932605e+03, -1.53747821e+00,\n",
       "       -2.22749591e+00, -2.91805840e+00, -2.12364006e+00, -4.86310997e+01,\n",
       "       -1.42810776e+02, -1.46897709e+00, -1.74647319e+00, -1.79953837e+00,\n",
       "       -1.46457779e+02, -1.11818171e+00, -1.01172382e+03, -1.52217436e+00,\n",
       "       -5.44952698e+02, -7.73096313e+02, -1.08786750e+00, -1.51057887e+00,\n",
       "       -8.32984090e-01, -1.45877361e+00, -3.17387695e+02, -2.34995079e+00,\n",
       "       -1.60043657e+00, -2.48439264e+00, -2.06954527e+00, -1.12017655e+00,\n",
       "       -2.27132031e+03, -2.94891167e+00, -1.68152559e+00, -2.73539639e+00,\n",
       "       -1.30840134e+02, -2.75687695e+00, -3.34408539e+02, -2.27940277e+02,\n",
       "       -2.77793884e+00, -2.17915314e+02, -8.61387939e+02, -5.83397865e-01,\n",
       "       -2.31584239e+00, -9.44195271e-01, -3.43113525e+02, -6.64328674e+02,\n",
       "       -1.75792491e+00, -1.10991740e+00, -2.91147518e+00, -1.05602318e+02,\n",
       "       -2.14624119e+00, -2.17491241e+02, -6.39096022e-01, -3.31610138e+02,\n",
       "       -8.98368408e+02, -4.61415436e+02, -6.64032269e+00, -1.21482788e+02,\n",
       "       -3.45592651e+02, -2.15621362e+03, -1.35794497e+00, -2.01026082e+00,\n",
       "       -9.33237839e+00, -1.29743695e+00, -7.07185669e+02, -1.17286873e+00,\n",
       "       -5.89726257e+01, -1.41308868e+00, -2.35071915e+02, -1.79656529e+00,\n",
       "       -1.70959437e+00, -1.28482115e+00, -2.02549934e+00, -1.44016242e+00,\n",
       "       -4.99928951e+00, -1.44766641e+00, -1.54252396e+02, -1.79090500e+00,\n",
       "       -2.24516916e+00, -7.18297485e+02, -1.06674109e+03, -2.22213411e+00,\n",
       "       -2.19320250e+00, -7.83686161e-01, -5.54843664e+00, -2.62259746e+00,\n",
       "       -5.09663940e+02, -4.00572205e+00, -1.50105786e+00, -1.21879113e+00,\n",
       "       -1.16452754e+00, -1.11553215e+02, -3.43727112e+02, -2.47057533e+00,\n",
       "       -6.38786554e-01, -9.72892880e-01, -1.80402672e+00, -4.07862854e+02,\n",
       "       -5.13044238e-01, -9.77039917e+02, -2.17087793e+00, -3.25948048e+00,\n",
       "       -1.30767334e+02, -2.28305374e+02, -1.65365696e+00, -3.01300621e+00,\n",
       "       -8.54640198e+00, -2.47443497e+02, -1.16055453e+00, -1.16595292e+00,\n",
       "       -1.87552142e+00, -6.63825531e+01, -1.02179694e+00, -2.42581299e+02,\n",
       "       -1.33629248e+03, -1.68972445e+00, -3.90377045e+00, -1.86825903e+03,\n",
       "       -8.12000305e+02, -1.60933733e+00, -2.27664518e+00, -1.55304146e+00,\n",
       "       -2.17815308e+02, -1.17823052e+00, -4.31476927e+00, -1.92316782e+00,\n",
       "       -8.86536072e+02, -1.99718499e+00, -2.16463995e+00, -1.90911713e+02,\n",
       "       -2.28703952e+00, -3.75863314e+00, -3.89064697e+02, -4.26095152e+00],\n",
       "      dtype=float32)>"
      ]
     },
     "execution_count": 37,
     "metadata": {},
     "output_type": "execute_result"
    }
   ],
   "source": [
    "prior.log_prob(weight_samples) + make_likelihood(weight_samples, x).log_prob(y)"
   ]
  },
  {
   "cell_type": "code",
   "execution_count": null,
   "metadata": {},
   "outputs": [],
   "source": []
  }
 ],
 "metadata": {
  "kernelspec": {
   "display_name": "inv",
   "language": "python",
   "name": "python3"
  },
  "language_info": {
   "codemirror_mode": {
    "name": "ipython",
    "version": 3
   },
   "file_extension": ".py",
   "mimetype": "text/x-python",
   "name": "python",
   "nbconvert_exporter": "python",
   "pygments_lexer": "ipython3",
   "version": "3.9.16"
  },
  "orig_nbformat": 4
 },
 "nbformat": 4,
 "nbformat_minor": 2
}
