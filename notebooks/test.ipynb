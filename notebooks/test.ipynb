{
 "cells": [
  {
   "cell_type": "code",
   "execution_count": 1,
   "metadata": {},
   "outputs": [],
   "source": [
    "%load_ext autoreload\n",
    "%autoreload 2\n",
    "\n",
    "from ml_collections import config_dict\n",
    "import jax.random as random\n",
    "\n",
    "from src.utils.training import setup_model, get_dataset_splits, train_loop\n",
    "import src.utils.input as i"
   ]
  },
  {
   "cell_type": "code",
   "execution_count": 2,
   "metadata": {},
   "outputs": [],
   "source": [
    "rng = random.PRNGKey(0)\n",
    "data_rng, model_rng = random.split(rng)"
   ]
  },
  {
   "cell_type": "code",
   "execution_count": 3,
   "metadata": {},
   "outputs": [],
   "source": [
    "def get_config(low_angle, high_angle) -> config_dict.ConfigDict:\n",
    "    config = config_dict.ConfigDict()\n",
    "\n",
    "    config.dataset = 'MNIST'\n",
    "    # config.data_dir = '~/data'\n",
    "    config.shuffle_buffer_size = 50_000\n",
    "    config.repeat_after_batch = True  # NOTE: ordering of PP and repeat is important!\n",
    "    config.train_split = 'train[10000:]'\n",
    "    config.pp_train = f'value_range(-1, 1)|random_rotate({low_angle}, {high_angle}, fill_value=-1)|keep([\"image\"])'  # decode(1)|\n",
    "    config.val_split = 'train[:10000]'\n",
    "    config.pp_eval = f'value_range(-1, 1)|random_rotate({low_angle}, {high_angle}, fill_value=-1)|keep([\"image\"])'  # |random_rotate({low_angle}, {high_angle}, fill_value=-1)\n",
    "\n",
    "\n",
    "    # config.optim_name = 'adamw'\n",
    "    # config.optim = config_dict.ConfigDict()\n",
    "    # config.optim.weight_decay = 1e-4\n",
    "    # config.learning_rate = 1e-4\n",
    "\n",
    "    # config.lr_schedule_name = 'warmup_cosine_decay_schedule'\n",
    "    # config.lr_schedule = config_dict.ConfigDict()\n",
    "    # config.lr_schedule.peak_value = 3 * config.learning_rate\n",
    "    # config.lr_schedule.end_value = 1/3 * config.learning_rate\n",
    "    # num_train, _ = train_val_split_sizes(METADATA['num_train'][config.dataset_name], config.val_percent)\n",
    "    # num_batches_per_epoch = ceil(num_train / config.batch_size)\n",
    "    # config.lr_schedule.decay_steps = config.epochs * num_batches_per_epoch\n",
    "    # config.lr_schedule.warmup_steps = int(0.2 * config.lr_schedule.decay_steps)\n",
    "\n",
    "    # config.model_name = 'VAE'\n",
    "    # config.model = config_dict.ConfigDict()\n",
    "    # config.model.latent_dim = 32\n",
    "\n",
    "    # config.β = 10\n",
    "    # config.β_schedule_name = 'cosine_decay_schedule'\n",
    "    # config.β_schedule = config_dict.ConfigDict()\n",
    "    # config.β_end_value = 1\n",
    "    # config.β_schedule.alpha = config.β_end_value / config.β\n",
    "    # config.β_schedule.decay_steps = config.epochs * num_batches_per_epoch\n",
    "\n",
    "    # config.model.encoder = config_dict.ConfigDict()\n",
    "    # config.model.encoder.posterior = 'hetero-diag-normal'\n",
    "    # config.model.encoder.hidden_dims = [64, 128]  # [64, 128, 256]\n",
    "\n",
    "    # config.model.decoder = config_dict.ConfigDict()\n",
    "    # config.model.decoder.likelihood = 'iso-normal'\n",
    "    # config.model.decoder.σ_min = 1e-2\n",
    "    # config.model.decoder.hidden_dims = list(reversed(config.model.encoder.hidden_dims))\n",
    "    # config.model.decoder.hidden_dims = [384, 192, 96, 48]\n",
    "    # config.model.decoder.image_shape = METADATA['image_shape'][config.dataset_name]\n",
    "\n",
    "    return config"
   ]
  },
  {
   "cell_type": "code",
   "execution_count": 4,
   "metadata": {},
   "outputs": [],
   "source": [
    "config = get_config(45, 0)"
   ]
  },
  {
   "cell_type": "code",
   "execution_count": 5,
   "metadata": {},
   "outputs": [
    {
     "name": "stderr",
     "output_type": "stream",
     "text": [
      "WARNING:absl:options.experimental_threading is deprecated. Use options.threading instead.\n",
      "WARNING:absl:options.experimental_threading is deprecated. Use options.threading instead.\n",
      "WARNING:absl:options.experimental_threading is deprecated. Use options.threading instead.\n",
      "WARNING:absl:options.experimental_threading is deprecated. Use options.threading instead.\n"
     ]
    }
   ],
   "source": [
    "train_ds, val_ds, _ = get_dataset_splits(config, data_rng, 256, 256)"
   ]
  },
  {
   "cell_type": "code",
   "execution_count": 6,
   "metadata": {},
   "outputs": [
    {
     "data": {
      "text/plain": [
       "(1, 256, 28, 28, 1)"
      ]
     },
     "execution_count": 6,
     "metadata": {},
     "output_type": "execute_result"
    }
   ],
   "source": [
    "ds = i.start_input_pipeline(train_ds, 1)\n",
    "next(ds)['image'].shape"
   ]
  },
  {
   "cell_type": "code",
   "execution_count": null,
   "metadata": {},
   "outputs": [],
   "source": []
  }
 ],
 "metadata": {
  "kernelspec": {
   "display_name": "inv",
   "language": "python",
   "name": "python3"
  },
  "language_info": {
   "codemirror_mode": {
    "name": "ipython",
    "version": 3
   },
   "file_extension": ".py",
   "mimetype": "text/x-python",
   "name": "python",
   "nbconvert_exporter": "python",
   "pygments_lexer": "ipython3",
   "version": "3.9.13"
  },
  "orig_nbformat": 4,
  "vscode": {
   "interpreter": {
    "hash": "85696cc8f8f812d4e53cfd8a6f4960223adf32f47c94bbc41d022414b9401ed4"
   }
  }
 },
 "nbformat": 4,
 "nbformat_minor": 2
}
