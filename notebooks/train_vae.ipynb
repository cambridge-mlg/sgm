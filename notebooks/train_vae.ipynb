{
 "cells": [
  {
   "cell_type": "code",
   "execution_count": null,
   "metadata": {},
   "outputs": [],
   "source": [
    "%load_ext autoreload\n",
    "%autoreload 2"
   ]
  },
  {
   "cell_type": "code",
   "execution_count": null,
   "metadata": {},
   "outputs": [],
   "source": [
    "import os\n",
    "import logging\n",
    "\n",
    "from jax import random\n",
    "import optax\n",
    "import wandb\n",
    "from ml_collections import config_dict\n",
    "\n",
    "import src.models as models\n",
    "from src.models import make_VAE_loss, make_VAE_eval\n",
    "from src.data import get_image_dataset, NumpyLoader\n",
    "from src.utils.training import TrainState, train_loop"
   ]
  },
  {
   "cell_type": "code",
   "execution_count": null,
   "metadata": {},
   "outputs": [],
   "source": [
    "config = config_dict.ConfigDict()\n",
    "\n",
    "config.dataset_name = 'MNIST'\n",
    "config.valid_percent = 0.1\n",
    "config.learning_rate = 3e-3\n",
    "config.epochs = 30\n",
    "config.batch_size = 512\n",
    "\n",
    "config.model_name = 'VAE'\n",
    "config.model = config_dict.ConfigDict()\n",
    "config.model.latent_dim = 50\n",
    "config.model.learn_prior = False\n",
    "config.model.convolutional = False\n",
    "\n",
    "config.model.encoder = config_dict.ConfigDict()\n",
    "config.model.encoder.posterior = 'hetero-diag-normal'\n",
    "config.model.encoder.hidden_dims = [128, 256, 512]\n",
    "config.model.encoder.act_fn = 'gelu'\n",
    "\n",
    "config.model.decoder = config_dict.ConfigDict()\n",
    "config.model.decoder.likelihood = 'iso-normal'\n",
    "# TODO: test these ^^^ !\n",
    "config.model.decoder.hidden_dims = [128, 256, 512]\n",
    "config.model.decoder.act_fn = 'gelu'\n",
    "config.model.decoder.image_shape = {\n",
    "    'MNIST': (28, 28, 1),\n",
    "    'FashionMNIST': (28, 28, 1),\n",
    "    'KMNIST': (28, 28, 1),\n",
    "    'SVHN': (32, 32, 3),\n",
    "    'CIFAR10': (32, 32, 3),\n",
    "    'CIFAR100': (32, 32, 3),\n",
    "}[config.dataset_name]\n",
    "\n",
    "os.environ['WANDB_NOTEBOOK_NAME'] = 'train_vae.ipynb'\n",
    "# ^ W&B doesn't know how to handle VS Code notebooks.\n",
    "\n",
    "wandb.login()"
   ]
  },
  {
   "cell_type": "code",
   "execution_count": null,
   "metadata": {},
   "outputs": [],
   "source": [
    "# Fix for annoying \"WARNING:root:The use of `check_types` is deprecated and does not have any effect.\"\n",
    "# error message produced by tfp.\n",
    "logger = logging.getLogger('root')\n",
    "\n",
    "class CheckTypesFilter(logging.Filter):\n",
    "    def filter(self, record):\n",
    "        return 'check_types' not in record.getMessage()\n",
    "\n",
    "logger.addFilter(CheckTypesFilter())"
   ]
  },
  {
   "cell_type": "code",
   "execution_count": null,
   "metadata": {},
   "outputs": [],
   "source": [
    "rng = random.PRNGKey(0)"
   ]
  },
  {
   "cell_type": "code",
   "execution_count": null,
   "metadata": {},
   "outputs": [],
   "source": [
    "train_dataset, test_dataset, valid_dataset = get_image_dataset(\n",
    "    dataset_name=config.dataset_name,\n",
    "    valid_percent=config.valid_percent,\n",
    "    flatten_img=not config.model.convolutional\n",
    ")\n",
    "train_loader = NumpyLoader(train_dataset, config.batch_size)\n",
    "valid_loader = NumpyLoader(valid_dataset, int(60_000 * config.valid_percent))\n",
    "# test_loader = NumpyLoader(test_dataset, 10_000)\n",
    "# TODO: get rid of magic numbers ^"
   ]
  },
  {
   "cell_type": "code",
   "execution_count": null,
   "metadata": {},
   "outputs": [],
   "source": [
    "model_cls = getattr(models, config.model_name)\n",
    "model = model_cls(**config.model.to_dict())\n",
    "\n",
    "init_rng, rng = random.split(rng)\n",
    "init_data = train_dataset[0][0]\n",
    "variables = model.init(init_rng, init_data, rng)\n",
    "model_state, params = variables.pop('params')\n",
    "del variables\n",
    "\n",
    "state = TrainState.create(\n",
    "    apply_fn=model.apply,\n",
    "    params=params,\n",
    "    tx=optax.adamw(config.learning_rate),\n",
    "    model_state=model_state\n",
    ")"
   ]
  },
  {
   "cell_type": "code",
   "execution_count": null,
   "metadata": {},
   "outputs": [],
   "source": [
    "state = train_loop(model, state, config, rng, make_VAE_loss, make_VAE_eval, train_loader, valid_loader, {'mode': 'disabled'})"
   ]
  },
  {
   "cell_type": "code",
   "execution_count": null,
   "metadata": {},
   "outputs": [],
   "source": []
  }
 ],
 "metadata": {
  "interpreter": {
   "hash": "85696cc8f8f812d4e53cfd8a6f4960223adf32f47c94bbc41d022414b9401ed4"
  },
  "kernelspec": {
   "display_name": "Python 3.9.12 ('inv')",
   "language": "python",
   "name": "python3"
  },
  "language_info": {
   "codemirror_mode": {
    "name": "ipython",
    "version": 3
   },
   "file_extension": ".py",
   "mimetype": "text/x-python",
   "name": "python",
   "nbconvert_exporter": "python",
   "pygments_lexer": "ipython3",
   "version": "3.9.12"
  },
  "orig_nbformat": 4
 },
 "nbformat": 4,
 "nbformat_minor": 2
}
